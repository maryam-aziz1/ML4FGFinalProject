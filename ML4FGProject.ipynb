{
  "nbformat": 4,
  "nbformat_minor": 0,
  "metadata": {
    "colab": {
      "provenance": []
    },
    "kernelspec": {
      "name": "python3",
      "display_name": "Python 3"
    },
    "language_info": {
      "name": "python"
    },
    "accelerator": "GPU",
    "gpuClass": "standard"
  },
  "cells": [
    {
      "cell_type": "markdown",
      "source": [
        "Load in and format OTU tables from QIIME and the associated metadata:"
      ],
      "metadata": {
        "id": "zzsc7caQ_Xmi"
      }
    },
    {
      "cell_type": "code",
      "execution_count": 53,
      "metadata": {
        "id": "8RbT1tq9m3ou"
      },
      "outputs": [],
      "source": [
        "import pandas as pd \n",
        "\n",
        "df = pd.read_csv('/content/qiime_three.txt', sep = '\\t', index_col = 0)"
      ]
    },
    {
      "cell_type": "code",
      "source": [
        "from google.colab import drive\n",
        "drive.mount('/content/drive')"
      ],
      "metadata": {
        "colab": {
          "base_uri": "https://localhost:8080/"
        },
        "id": "n_Q4ImnNaR3o",
        "outputId": "20a2670a-baf9-4b20-a7ec-aa95fa0db21a"
      },
      "execution_count": 54,
      "outputs": [
        {
          "output_type": "stream",
          "name": "stdout",
          "text": [
            "Drive already mounted at /content/drive; to attempt to forcibly remount, call drive.mount(\"/content/drive\", force_remount=True).\n"
          ]
        }
      ]
    },
    {
      "cell_type": "code",
      "source": [
        "df = df.transpose()"
      ],
      "metadata": {
        "id": "IBbKPfbqnhff"
      },
      "execution_count": 55,
      "outputs": []
    },
    {
      "cell_type": "code",
      "source": [
        "y = pd.read_csv('/content/merged_three_Countrymetadata.tsv', sep = '\\t')[['SampleID', 'Other_than_BF']]"
      ],
      "metadata": {
        "id": "qtBehaG0oAXg"
      },
      "execution_count": 56,
      "outputs": []
    },
    {
      "cell_type": "code",
      "source": [
        "y"
      ],
      "metadata": {
        "colab": {
          "base_uri": "https://localhost:8080/",
          "height": 419
        },
        "id": "psKKHDv1oPdD",
        "outputId": "72cef61f-4101-4923-8274-50d6da615091"
      },
      "execution_count": 57,
      "outputs": [
        {
          "output_type": "execute_result",
          "data": {
            "text/plain": [
              "      SampleID  Other_than_BF\n",
              "0      3101193           True\n",
              "1      3107294           True\n",
              "2      3113022           True\n",
              "3      3107293           True\n",
              "4      3101190           True\n",
              "...        ...            ...\n",
              "1941   3119976           True\n",
              "1942   3117647           True\n",
              "1943   3103438          False\n",
              "1944   3116926           True\n",
              "1945   3116924           True\n",
              "\n",
              "[1946 rows x 2 columns]"
            ],
            "text/html": [
              "\n",
              "  <div id=\"df-9567ce19-cab7-4638-a575-056439f023c6\">\n",
              "    <div class=\"colab-df-container\">\n",
              "      <div>\n",
              "<style scoped>\n",
              "    .dataframe tbody tr th:only-of-type {\n",
              "        vertical-align: middle;\n",
              "    }\n",
              "\n",
              "    .dataframe tbody tr th {\n",
              "        vertical-align: top;\n",
              "    }\n",
              "\n",
              "    .dataframe thead th {\n",
              "        text-align: right;\n",
              "    }\n",
              "</style>\n",
              "<table border=\"1\" class=\"dataframe\">\n",
              "  <thead>\n",
              "    <tr style=\"text-align: right;\">\n",
              "      <th></th>\n",
              "      <th>SampleID</th>\n",
              "      <th>Other_than_BF</th>\n",
              "    </tr>\n",
              "  </thead>\n",
              "  <tbody>\n",
              "    <tr>\n",
              "      <th>0</th>\n",
              "      <td>3101193</td>\n",
              "      <td>True</td>\n",
              "    </tr>\n",
              "    <tr>\n",
              "      <th>1</th>\n",
              "      <td>3107294</td>\n",
              "      <td>True</td>\n",
              "    </tr>\n",
              "    <tr>\n",
              "      <th>2</th>\n",
              "      <td>3113022</td>\n",
              "      <td>True</td>\n",
              "    </tr>\n",
              "    <tr>\n",
              "      <th>3</th>\n",
              "      <td>3107293</td>\n",
              "      <td>True</td>\n",
              "    </tr>\n",
              "    <tr>\n",
              "      <th>4</th>\n",
              "      <td>3101190</td>\n",
              "      <td>True</td>\n",
              "    </tr>\n",
              "    <tr>\n",
              "      <th>...</th>\n",
              "      <td>...</td>\n",
              "      <td>...</td>\n",
              "    </tr>\n",
              "    <tr>\n",
              "      <th>1941</th>\n",
              "      <td>3119976</td>\n",
              "      <td>True</td>\n",
              "    </tr>\n",
              "    <tr>\n",
              "      <th>1942</th>\n",
              "      <td>3117647</td>\n",
              "      <td>True</td>\n",
              "    </tr>\n",
              "    <tr>\n",
              "      <th>1943</th>\n",
              "      <td>3103438</td>\n",
              "      <td>False</td>\n",
              "    </tr>\n",
              "    <tr>\n",
              "      <th>1944</th>\n",
              "      <td>3116926</td>\n",
              "      <td>True</td>\n",
              "    </tr>\n",
              "    <tr>\n",
              "      <th>1945</th>\n",
              "      <td>3116924</td>\n",
              "      <td>True</td>\n",
              "    </tr>\n",
              "  </tbody>\n",
              "</table>\n",
              "<p>1946 rows × 2 columns</p>\n",
              "</div>\n",
              "      <button class=\"colab-df-convert\" onclick=\"convertToInteractive('df-9567ce19-cab7-4638-a575-056439f023c6')\"\n",
              "              title=\"Convert this dataframe to an interactive table.\"\n",
              "              style=\"display:none;\">\n",
              "        \n",
              "  <svg xmlns=\"http://www.w3.org/2000/svg\" height=\"24px\"viewBox=\"0 0 24 24\"\n",
              "       width=\"24px\">\n",
              "    <path d=\"M0 0h24v24H0V0z\" fill=\"none\"/>\n",
              "    <path d=\"M18.56 5.44l.94 2.06.94-2.06 2.06-.94-2.06-.94-.94-2.06-.94 2.06-2.06.94zm-11 1L8.5 8.5l.94-2.06 2.06-.94-2.06-.94L8.5 2.5l-.94 2.06-2.06.94zm10 10l.94 2.06.94-2.06 2.06-.94-2.06-.94-.94-2.06-.94 2.06-2.06.94z\"/><path d=\"M17.41 7.96l-1.37-1.37c-.4-.4-.92-.59-1.43-.59-.52 0-1.04.2-1.43.59L10.3 9.45l-7.72 7.72c-.78.78-.78 2.05 0 2.83L4 21.41c.39.39.9.59 1.41.59.51 0 1.02-.2 1.41-.59l7.78-7.78 2.81-2.81c.8-.78.8-2.07 0-2.86zM5.41 20L4 18.59l7.72-7.72 1.47 1.35L5.41 20z\"/>\n",
              "  </svg>\n",
              "      </button>\n",
              "      \n",
              "  <style>\n",
              "    .colab-df-container {\n",
              "      display:flex;\n",
              "      flex-wrap:wrap;\n",
              "      gap: 12px;\n",
              "    }\n",
              "\n",
              "    .colab-df-convert {\n",
              "      background-color: #E8F0FE;\n",
              "      border: none;\n",
              "      border-radius: 50%;\n",
              "      cursor: pointer;\n",
              "      display: none;\n",
              "      fill: #1967D2;\n",
              "      height: 32px;\n",
              "      padding: 0 0 0 0;\n",
              "      width: 32px;\n",
              "    }\n",
              "\n",
              "    .colab-df-convert:hover {\n",
              "      background-color: #E2EBFA;\n",
              "      box-shadow: 0px 1px 2px rgba(60, 64, 67, 0.3), 0px 1px 3px 1px rgba(60, 64, 67, 0.15);\n",
              "      fill: #174EA6;\n",
              "    }\n",
              "\n",
              "    [theme=dark] .colab-df-convert {\n",
              "      background-color: #3B4455;\n",
              "      fill: #D2E3FC;\n",
              "    }\n",
              "\n",
              "    [theme=dark] .colab-df-convert:hover {\n",
              "      background-color: #434B5C;\n",
              "      box-shadow: 0px 1px 3px 1px rgba(0, 0, 0, 0.15);\n",
              "      filter: drop-shadow(0px 1px 2px rgba(0, 0, 0, 0.3));\n",
              "      fill: #FFFFFF;\n",
              "    }\n",
              "  </style>\n",
              "\n",
              "      <script>\n",
              "        const buttonEl =\n",
              "          document.querySelector('#df-9567ce19-cab7-4638-a575-056439f023c6 button.colab-df-convert');\n",
              "        buttonEl.style.display =\n",
              "          google.colab.kernel.accessAllowed ? 'block' : 'none';\n",
              "\n",
              "        async function convertToInteractive(key) {\n",
              "          const element = document.querySelector('#df-9567ce19-cab7-4638-a575-056439f023c6');\n",
              "          const dataTable =\n",
              "            await google.colab.kernel.invokeFunction('convertToInteractive',\n",
              "                                                     [key], {});\n",
              "          if (!dataTable) return;\n",
              "\n",
              "          const docLinkHtml = 'Like what you see? Visit the ' +\n",
              "            '<a target=\"_blank\" href=https://colab.research.google.com/notebooks/data_table.ipynb>data table notebook</a>'\n",
              "            + ' to learn more about interactive tables.';\n",
              "          element.innerHTML = '';\n",
              "          dataTable['output_type'] = 'display_data';\n",
              "          await google.colab.output.renderOutput(dataTable, element);\n",
              "          const docLink = document.createElement('div');\n",
              "          docLink.innerHTML = docLinkHtml;\n",
              "          element.appendChild(docLink);\n",
              "        }\n",
              "      </script>\n",
              "    </div>\n",
              "  </div>\n",
              "  "
            ]
          },
          "metadata": {},
          "execution_count": 57
        }
      ]
    },
    {
      "cell_type": "code",
      "source": [
        "y.rename(columns = {'Other_than_BF': 'target'}, inplace = True)"
      ],
      "metadata": {
        "id": "qe5BBUCppVkK"
      },
      "execution_count": 58,
      "outputs": []
    },
    {
      "cell_type": "code",
      "source": [
        "df.reset_index(inplace = True)\n",
        "df.rename(columns = {'sample': 'index', 'index':'SampleID'}, inplace = True)\n",
        "df"
      ],
      "metadata": {
        "colab": {
          "base_uri": "https://localhost:8080/",
          "height": 483
        },
        "id": "JLPsihIkqmZJ",
        "outputId": "4241a9a7-5232-4dc4-aff4-47a4c7778832"
      },
      "execution_count": 59,
      "outputs": [
        {
          "output_type": "execute_result",
          "data": {
            "text/plain": [
              "sample SampleID  \\\n",
              "0       3100170   \n",
              "1       3100175   \n",
              "2       3100176   \n",
              "3       3104031   \n",
              "4       3100180   \n",
              "...         ...   \n",
              "1579    3100051   \n",
              "1580    3106020   \n",
              "1581    3105691   \n",
              "1582    3105284   \n",
              "1583    3105619   \n",
              "\n",
              "sample  k__Archaea|p__Euryarchaeota|c__Methanobacteria|o__Methanobacteriales|f__Methanobacteriaceae|g__Methanobrevibacter|s__unclassified|470690  \\\n",
              "0                                                     0.0                                                                                          \n",
              "1                                                     0.0                                                                                          \n",
              "2                                                     0.0                                                                                          \n",
              "3                                                     0.0                                                                                          \n",
              "4                                                     0.0                                                                                          \n",
              "...                                                   ...                                                                                          \n",
              "1579                                                  0.0                                                                                          \n",
              "1580                                                  0.0                                                                                          \n",
              "1581                                                  0.0                                                                                          \n",
              "1582                                                  0.0                                                                                          \n",
              "1583                                                  0.0                                                                                          \n",
              "\n",
              "sample  k__Bacteria  k__Bacteria|p__Actinobacteria|c__Actinobacteria  \\\n",
              "0           22452.0                                           3062.0   \n",
              "1           80360.0                                           9373.0   \n",
              "2           17359.0                                           1776.0   \n",
              "3           37957.0                                           4767.0   \n",
              "4           26033.0                                          21736.0   \n",
              "...             ...                                              ...   \n",
              "1579         7831.0                                           1328.0   \n",
              "1580        20256.0                                            513.0   \n",
              "1581       183560.0                                           3982.0   \n",
              "1582        83811.0                                           4671.0   \n",
              "1583        18947.0                                              2.0   \n",
              "\n",
              "sample  k__Bacteria|p__Actinobacteria|c__Actinobacteria|o__Actinomycetales  \\\n",
              "0                                                    24.0                    \n",
              "1                                                    48.0                    \n",
              "2                                                     1.0                    \n",
              "3                                                    15.0                    \n",
              "4                                                   217.0                    \n",
              "...                                                   ...                    \n",
              "1579                                                  0.0                    \n",
              "1580                                                146.0                    \n",
              "1581                                                 21.0                    \n",
              "1582                                                 19.0                    \n",
              "1583                                                  2.0                    \n",
              "\n",
              "sample  k__Bacteria|p__Actinobacteria|c__Actinobacteria|o__Actinomycetales|f__Actinomycetaceae  \\\n",
              "0                                                    24.0                                        \n",
              "1                                                    30.0                                        \n",
              "2                                                     1.0                                        \n",
              "3                                                    14.0                                        \n",
              "4                                                   207.0                                        \n",
              "...                                                   ...                                        \n",
              "1579                                                  0.0                                        \n",
              "1580                                                146.0                                        \n",
              "1581                                                 17.0                                        \n",
              "1582                                                  3.0                                        \n",
              "1583                                                  2.0                                        \n",
              "\n",
              "sample  k__Bacteria|p__Actinobacteria|c__Actinobacteria|o__Actinomycetales|f__Actinomycetaceae|g__Actinomyces|s__unclassified  \\\n",
              "0                                                    20.0                                                                       \n",
              "1                                                    21.0                                                                       \n",
              "2                                                     1.0                                                                       \n",
              "3                                                    14.0                                                                       \n",
              "4                                                     0.0                                                                       \n",
              "...                                                   ...                                                                       \n",
              "1579                                                  0.0                                                                       \n",
              "1580                                                146.0                                                                       \n",
              "1581                                                 12.0                                                                       \n",
              "1582                                                  0.0                                                                       \n",
              "1583                                                  0.0                                                                       \n",
              "\n",
              "sample  k__Bacteria|p__Actinobacteria|c__Actinobacteria|o__Actinomycetales|f__Actinomycetaceae|g__Actinomyces|s__unclassified|12568  \\\n",
              "0                                                     0.0                                                                             \n",
              "1                                                     0.0                                                                             \n",
              "2                                                     0.0                                                                             \n",
              "3                                                     0.0                                                                             \n",
              "4                                                     0.0                                                                             \n",
              "...                                                   ...                                                                             \n",
              "1579                                                  0.0                                                                             \n",
              "1580                                                146.0                                                                             \n",
              "1581                                                  0.0                                                                             \n",
              "1582                                                  0.0                                                                             \n",
              "1583                                                  0.0                                                                             \n",
              "\n",
              "sample  k__Bacteria|p__Actinobacteria|c__Actinobacteria|o__Actinomycetales|f__Actinomycetaceae|g__Actinomyces|s__unclassified|370432  \\\n",
              "0                                                    20.0                                                                              \n",
              "1                                                    20.0                                                                              \n",
              "2                                                     1.0                                                                              \n",
              "3                                                    14.0                                                                              \n",
              "4                                                     0.0                                                                              \n",
              "...                                                   ...                                                                              \n",
              "1579                                                  0.0                                                                              \n",
              "1580                                                  0.0                                                                              \n",
              "1581                                                 12.0                                                                              \n",
              "1582                                                  0.0                                                                              \n",
              "1583                                                  0.0                                                                              \n",
              "\n",
              "sample  k__Bacteria|p__Actinobacteria|c__Actinobacteria|o__Actinomycetales|f__Actinomycetaceae|g__Actinomyces|s__unclassified|565136  \\\n",
              "0                                                     0.0                                                                              \n",
              "1                                                     0.0                                                                              \n",
              "2                                                     0.0                                                                              \n",
              "3                                                     0.0                                                                              \n",
              "4                                                     0.0                                                                              \n",
              "...                                                   ...                                                                              \n",
              "1579                                                  0.0                                                                              \n",
              "1580                                                  0.0                                                                              \n",
              "1581                                                  0.0                                                                              \n",
              "1582                                                  0.0                                                                              \n",
              "1583                                                  0.0                                                                              \n",
              "\n",
              "sample  ...  \\\n",
              "0       ...   \n",
              "1       ...   \n",
              "2       ...   \n",
              "3       ...   \n",
              "4       ...   \n",
              "...     ...   \n",
              "1579    ...   \n",
              "1580    ...   \n",
              "1581    ...   \n",
              "1582    ...   \n",
              "1583    ...   \n",
              "\n",
              "sample  k__Bacteria|p__Tenericutes|c__Mollicutes|o__RF39|f__unclassified|g__unclassified|s__unclassified|33343  \\\n",
              "0                                                     0.0                                                        \n",
              "1                                                     0.0                                                        \n",
              "2                                                     0.0                                                        \n",
              "3                                                     0.0                                                        \n",
              "4                                                     0.0                                                        \n",
              "...                                                   ...                                                        \n",
              "1579                                                  0.0                                                        \n",
              "1580                                                  0.0                                                        \n",
              "1581                                                  0.0                                                        \n",
              "1582                                                  0.0                                                        \n",
              "1583                                                  0.0                                                        \n",
              "\n",
              "sample  k__Bacteria|p__Tenericutes|c__Mollicutes|o__RF39|f__unclassified|g__unclassified|s__unclassified|368734  \\\n",
              "0                                                     0.0                                                         \n",
              "1                                                     0.0                                                         \n",
              "2                                                     0.0                                                         \n",
              "3                                                     0.0                                                         \n",
              "4                                                     0.0                                                         \n",
              "...                                                   ...                                                         \n",
              "1579                                                  0.0                                                         \n",
              "1580                                                  0.0                                                         \n",
              "1581                                                  0.0                                                         \n",
              "1582                                                  0.0                                                         \n",
              "1583                                                  0.0                                                         \n",
              "\n",
              "sample  k__Bacteria|p__Tenericutes|c__Mollicutes|o__RF39|f__unclassified|g__unclassified|s__unclassified|513605  \\\n",
              "0                                                     0.0                                                         \n",
              "1                                                     0.0                                                         \n",
              "2                                                     0.0                                                         \n",
              "3                                                     0.0                                                         \n",
              "4                                                     0.0                                                         \n",
              "...                                                   ...                                                         \n",
              "1579                                                  0.0                                                         \n",
              "1580                                                  0.0                                                         \n",
              "1581                                                  0.0                                                         \n",
              "1582                                                  0.0                                                         \n",
              "1583                                                  0.0                                                         \n",
              "\n",
              "sample  k__Bacteria|p__Verrucomicrobia|c__Verrucomicrobiae|o__Verrucomicrobiales|f__Verrucomicrobiaceae|g__Akkermansia|s__muciniphila  \\\n",
              "0                                                     0.0                                                                               \n",
              "1                                                  1138.0                                                                               \n",
              "2                                                   179.0                                                                               \n",
              "3                                                     3.0                                                                               \n",
              "4                                                     0.0                                                                               \n",
              "...                                                   ...                                                                               \n",
              "1579                                                  0.0                                                                               \n",
              "1580                                                  0.0                                                                               \n",
              "1581                                                  0.0                                                                               \n",
              "1582                                                236.0                                                                               \n",
              "1583                                                  0.0                                                                               \n",
              "\n",
              "sample  k__Bacteria|p__Verrucomicrobia|c__Verrucomicrobiae|o__Verrucomicrobiales|f__Verrucomicrobiaceae|g__Akkermansia|s__muciniphila|178331  \\\n",
              "0                                                     0.0                                                                                      \n",
              "1                                                     5.0                                                                                      \n",
              "2                                                     0.0                                                                                      \n",
              "3                                                     0.0                                                                                      \n",
              "4                                                     0.0                                                                                      \n",
              "...                                                   ...                                                                                      \n",
              "1579                                                  0.0                                                                                      \n",
              "1580                                                  0.0                                                                                      \n",
              "1581                                                  0.0                                                                                      \n",
              "1582                                                  0.0                                                                                      \n",
              "1583                                                  0.0                                                                                      \n",
              "\n",
              "sample  k__Bacteria|p__Verrucomicrobia|c__Verrucomicrobiae|o__Verrucomicrobiales|f__Verrucomicrobiaceae|g__Akkermansia|s__muciniphila|264696  \\\n",
              "0                                                     0.0                                                                                      \n",
              "1                                                  1131.0                                                                                      \n",
              "2                                                   179.0                                                                                      \n",
              "3                                                     3.0                                                                                      \n",
              "4                                                     0.0                                                                                      \n",
              "...                                                   ...                                                                                      \n",
              "1579                                                  0.0                                                                                      \n",
              "1580                                                  0.0                                                                                      \n",
              "1581                                                  0.0                                                                                      \n",
              "1582                                                236.0                                                                                      \n",
              "1583                                                  0.0                                                                                      \n",
              "\n",
              "sample  k__Bacteria|p__Verrucomicrobia|c__Verrucomicrobiae|o__Verrucomicrobiales|f__Verrucomicrobiaceae|g__Akkermansia|s__muciniphila|363731  \\\n",
              "0                                                     0.0                                                                                      \n",
              "1                                                     2.0                                                                                      \n",
              "2                                                     0.0                                                                                      \n",
              "3                                                     0.0                                                                                      \n",
              "4                                                     0.0                                                                                      \n",
              "...                                                   ...                                                                                      \n",
              "1579                                                  0.0                                                                                      \n",
              "1580                                                  0.0                                                                                      \n",
              "1581                                                  0.0                                                                                      \n",
              "1582                                                  0.0                                                                                      \n",
              "1583                                                  0.0                                                                                      \n",
              "\n",
              "sample  k__Bacteria|p__Verrucomicrobia|c__Verrucomicrobiae|o__Verrucomicrobiales|f__Verrucomicrobiaceae|g__Akkermansia|s__muciniphila|561627  \\\n",
              "0                                                     0.0                                                                                      \n",
              "1                                                     0.0                                                                                      \n",
              "2                                                     0.0                                                                                      \n",
              "3                                                     0.0                                                                                      \n",
              "4                                                     0.0                                                                                      \n",
              "...                                                   ...                                                                                      \n",
              "1579                                                  0.0                                                                                      \n",
              "1580                                                  0.0                                                                                      \n",
              "1581                                                  0.0                                                                                      \n",
              "1582                                                  0.0                                                                                      \n",
              "1583                                                  0.0                                                                                      \n",
              "\n",
              "sample  k__Bacteria|p__Verrucomicrobia|c__Verrucomicrobiae|o__Verrucomicrobiales|f__Verrucomicrobiaceae|g__Akkermansia|s__muciniphila|588471  \\\n",
              "0                                                     0.0                                                                                      \n",
              "1                                                     0.0                                                                                      \n",
              "2                                                     0.0                                                                                      \n",
              "3                                                     0.0                                                                                      \n",
              "4                                                     0.0                                                                                      \n",
              "...                                                   ...                                                                                      \n",
              "1579                                                  0.0                                                                                      \n",
              "1580                                                  0.0                                                                                      \n",
              "1581                                                  0.0                                                                                      \n",
              "1582                                                  0.0                                                                                      \n",
              "1583                                                  0.0                                                                                      \n",
              "\n",
              "sample  k__Bacteria|p__Verrucomicrobia|c__Verrucomicrobiae|o__Verrucomicrobiales|f__Verrucomicrobiaceae|g__Akkermansia|s__muciniphila|593043  \n",
              "0                                                     0.0                                                                                     \n",
              "1                                                     0.0                                                                                     \n",
              "2                                                     0.0                                                                                     \n",
              "3                                                     0.0                                                                                     \n",
              "4                                                     0.0                                                                                     \n",
              "...                                                   ...                                                                                     \n",
              "1579                                                  0.0                                                                                     \n",
              "1580                                                  0.0                                                                                     \n",
              "1581                                                  0.0                                                                                     \n",
              "1582                                                  0.0                                                                                     \n",
              "1583                                                  0.0                                                                                     \n",
              "\n",
              "[1584 rows x 2196 columns]"
            ],
            "text/html": [
              "\n",
              "  <div id=\"df-1d038c44-ff37-4a9f-a7a7-3ad19b8ef050\">\n",
              "    <div class=\"colab-df-container\">\n",
              "      <div>\n",
              "<style scoped>\n",
              "    .dataframe tbody tr th:only-of-type {\n",
              "        vertical-align: middle;\n",
              "    }\n",
              "\n",
              "    .dataframe tbody tr th {\n",
              "        vertical-align: top;\n",
              "    }\n",
              "\n",
              "    .dataframe thead th {\n",
              "        text-align: right;\n",
              "    }\n",
              "</style>\n",
              "<table border=\"1\" class=\"dataframe\">\n",
              "  <thead>\n",
              "    <tr style=\"text-align: right;\">\n",
              "      <th>sample</th>\n",
              "      <th>SampleID</th>\n",
              "      <th>k__Archaea|p__Euryarchaeota|c__Methanobacteria|o__Methanobacteriales|f__Methanobacteriaceae|g__Methanobrevibacter|s__unclassified|470690</th>\n",
              "      <th>k__Bacteria</th>\n",
              "      <th>k__Bacteria|p__Actinobacteria|c__Actinobacteria</th>\n",
              "      <th>k__Bacteria|p__Actinobacteria|c__Actinobacteria|o__Actinomycetales</th>\n",
              "      <th>k__Bacteria|p__Actinobacteria|c__Actinobacteria|o__Actinomycetales|f__Actinomycetaceae</th>\n",
              "      <th>k__Bacteria|p__Actinobacteria|c__Actinobacteria|o__Actinomycetales|f__Actinomycetaceae|g__Actinomyces|s__unclassified</th>\n",
              "      <th>k__Bacteria|p__Actinobacteria|c__Actinobacteria|o__Actinomycetales|f__Actinomycetaceae|g__Actinomyces|s__unclassified|12568</th>\n",
              "      <th>k__Bacteria|p__Actinobacteria|c__Actinobacteria|o__Actinomycetales|f__Actinomycetaceae|g__Actinomyces|s__unclassified|370432</th>\n",
              "      <th>k__Bacteria|p__Actinobacteria|c__Actinobacteria|o__Actinomycetales|f__Actinomycetaceae|g__Actinomyces|s__unclassified|565136</th>\n",
              "      <th>...</th>\n",
              "      <th>k__Bacteria|p__Tenericutes|c__Mollicutes|o__RF39|f__unclassified|g__unclassified|s__unclassified|33343</th>\n",
              "      <th>k__Bacteria|p__Tenericutes|c__Mollicutes|o__RF39|f__unclassified|g__unclassified|s__unclassified|368734</th>\n",
              "      <th>k__Bacteria|p__Tenericutes|c__Mollicutes|o__RF39|f__unclassified|g__unclassified|s__unclassified|513605</th>\n",
              "      <th>k__Bacteria|p__Verrucomicrobia|c__Verrucomicrobiae|o__Verrucomicrobiales|f__Verrucomicrobiaceae|g__Akkermansia|s__muciniphila</th>\n",
              "      <th>k__Bacteria|p__Verrucomicrobia|c__Verrucomicrobiae|o__Verrucomicrobiales|f__Verrucomicrobiaceae|g__Akkermansia|s__muciniphila|178331</th>\n",
              "      <th>k__Bacteria|p__Verrucomicrobia|c__Verrucomicrobiae|o__Verrucomicrobiales|f__Verrucomicrobiaceae|g__Akkermansia|s__muciniphila|264696</th>\n",
              "      <th>k__Bacteria|p__Verrucomicrobia|c__Verrucomicrobiae|o__Verrucomicrobiales|f__Verrucomicrobiaceae|g__Akkermansia|s__muciniphila|363731</th>\n",
              "      <th>k__Bacteria|p__Verrucomicrobia|c__Verrucomicrobiae|o__Verrucomicrobiales|f__Verrucomicrobiaceae|g__Akkermansia|s__muciniphila|561627</th>\n",
              "      <th>k__Bacteria|p__Verrucomicrobia|c__Verrucomicrobiae|o__Verrucomicrobiales|f__Verrucomicrobiaceae|g__Akkermansia|s__muciniphila|588471</th>\n",
              "      <th>k__Bacteria|p__Verrucomicrobia|c__Verrucomicrobiae|o__Verrucomicrobiales|f__Verrucomicrobiaceae|g__Akkermansia|s__muciniphila|593043</th>\n",
              "    </tr>\n",
              "  </thead>\n",
              "  <tbody>\n",
              "    <tr>\n",
              "      <th>0</th>\n",
              "      <td>3100170</td>\n",
              "      <td>0.0</td>\n",
              "      <td>22452.0</td>\n",
              "      <td>3062.0</td>\n",
              "      <td>24.0</td>\n",
              "      <td>24.0</td>\n",
              "      <td>20.0</td>\n",
              "      <td>0.0</td>\n",
              "      <td>20.0</td>\n",
              "      <td>0.0</td>\n",
              "      <td>...</td>\n",
              "      <td>0.0</td>\n",
              "      <td>0.0</td>\n",
              "      <td>0.0</td>\n",
              "      <td>0.0</td>\n",
              "      <td>0.0</td>\n",
              "      <td>0.0</td>\n",
              "      <td>0.0</td>\n",
              "      <td>0.0</td>\n",
              "      <td>0.0</td>\n",
              "      <td>0.0</td>\n",
              "    </tr>\n",
              "    <tr>\n",
              "      <th>1</th>\n",
              "      <td>3100175</td>\n",
              "      <td>0.0</td>\n",
              "      <td>80360.0</td>\n",
              "      <td>9373.0</td>\n",
              "      <td>48.0</td>\n",
              "      <td>30.0</td>\n",
              "      <td>21.0</td>\n",
              "      <td>0.0</td>\n",
              "      <td>20.0</td>\n",
              "      <td>0.0</td>\n",
              "      <td>...</td>\n",
              "      <td>0.0</td>\n",
              "      <td>0.0</td>\n",
              "      <td>0.0</td>\n",
              "      <td>1138.0</td>\n",
              "      <td>5.0</td>\n",
              "      <td>1131.0</td>\n",
              "      <td>2.0</td>\n",
              "      <td>0.0</td>\n",
              "      <td>0.0</td>\n",
              "      <td>0.0</td>\n",
              "    </tr>\n",
              "    <tr>\n",
              "      <th>2</th>\n",
              "      <td>3100176</td>\n",
              "      <td>0.0</td>\n",
              "      <td>17359.0</td>\n",
              "      <td>1776.0</td>\n",
              "      <td>1.0</td>\n",
              "      <td>1.0</td>\n",
              "      <td>1.0</td>\n",
              "      <td>0.0</td>\n",
              "      <td>1.0</td>\n",
              "      <td>0.0</td>\n",
              "      <td>...</td>\n",
              "      <td>0.0</td>\n",
              "      <td>0.0</td>\n",
              "      <td>0.0</td>\n",
              "      <td>179.0</td>\n",
              "      <td>0.0</td>\n",
              "      <td>179.0</td>\n",
              "      <td>0.0</td>\n",
              "      <td>0.0</td>\n",
              "      <td>0.0</td>\n",
              "      <td>0.0</td>\n",
              "    </tr>\n",
              "    <tr>\n",
              "      <th>3</th>\n",
              "      <td>3104031</td>\n",
              "      <td>0.0</td>\n",
              "      <td>37957.0</td>\n",
              "      <td>4767.0</td>\n",
              "      <td>15.0</td>\n",
              "      <td>14.0</td>\n",
              "      <td>14.0</td>\n",
              "      <td>0.0</td>\n",
              "      <td>14.0</td>\n",
              "      <td>0.0</td>\n",
              "      <td>...</td>\n",
              "      <td>0.0</td>\n",
              "      <td>0.0</td>\n",
              "      <td>0.0</td>\n",
              "      <td>3.0</td>\n",
              "      <td>0.0</td>\n",
              "      <td>3.0</td>\n",
              "      <td>0.0</td>\n",
              "      <td>0.0</td>\n",
              "      <td>0.0</td>\n",
              "      <td>0.0</td>\n",
              "    </tr>\n",
              "    <tr>\n",
              "      <th>4</th>\n",
              "      <td>3100180</td>\n",
              "      <td>0.0</td>\n",
              "      <td>26033.0</td>\n",
              "      <td>21736.0</td>\n",
              "      <td>217.0</td>\n",
              "      <td>207.0</td>\n",
              "      <td>0.0</td>\n",
              "      <td>0.0</td>\n",
              "      <td>0.0</td>\n",
              "      <td>0.0</td>\n",
              "      <td>...</td>\n",
              "      <td>0.0</td>\n",
              "      <td>0.0</td>\n",
              "      <td>0.0</td>\n",
              "      <td>0.0</td>\n",
              "      <td>0.0</td>\n",
              "      <td>0.0</td>\n",
              "      <td>0.0</td>\n",
              "      <td>0.0</td>\n",
              "      <td>0.0</td>\n",
              "      <td>0.0</td>\n",
              "    </tr>\n",
              "    <tr>\n",
              "      <th>...</th>\n",
              "      <td>...</td>\n",
              "      <td>...</td>\n",
              "      <td>...</td>\n",
              "      <td>...</td>\n",
              "      <td>...</td>\n",
              "      <td>...</td>\n",
              "      <td>...</td>\n",
              "      <td>...</td>\n",
              "      <td>...</td>\n",
              "      <td>...</td>\n",
              "      <td>...</td>\n",
              "      <td>...</td>\n",
              "      <td>...</td>\n",
              "      <td>...</td>\n",
              "      <td>...</td>\n",
              "      <td>...</td>\n",
              "      <td>...</td>\n",
              "      <td>...</td>\n",
              "      <td>...</td>\n",
              "      <td>...</td>\n",
              "      <td>...</td>\n",
              "    </tr>\n",
              "    <tr>\n",
              "      <th>1579</th>\n",
              "      <td>3100051</td>\n",
              "      <td>0.0</td>\n",
              "      <td>7831.0</td>\n",
              "      <td>1328.0</td>\n",
              "      <td>0.0</td>\n",
              "      <td>0.0</td>\n",
              "      <td>0.0</td>\n",
              "      <td>0.0</td>\n",
              "      <td>0.0</td>\n",
              "      <td>0.0</td>\n",
              "      <td>...</td>\n",
              "      <td>0.0</td>\n",
              "      <td>0.0</td>\n",
              "      <td>0.0</td>\n",
              "      <td>0.0</td>\n",
              "      <td>0.0</td>\n",
              "      <td>0.0</td>\n",
              "      <td>0.0</td>\n",
              "      <td>0.0</td>\n",
              "      <td>0.0</td>\n",
              "      <td>0.0</td>\n",
              "    </tr>\n",
              "    <tr>\n",
              "      <th>1580</th>\n",
              "      <td>3106020</td>\n",
              "      <td>0.0</td>\n",
              "      <td>20256.0</td>\n",
              "      <td>513.0</td>\n",
              "      <td>146.0</td>\n",
              "      <td>146.0</td>\n",
              "      <td>146.0</td>\n",
              "      <td>146.0</td>\n",
              "      <td>0.0</td>\n",
              "      <td>0.0</td>\n",
              "      <td>...</td>\n",
              "      <td>0.0</td>\n",
              "      <td>0.0</td>\n",
              "      <td>0.0</td>\n",
              "      <td>0.0</td>\n",
              "      <td>0.0</td>\n",
              "      <td>0.0</td>\n",
              "      <td>0.0</td>\n",
              "      <td>0.0</td>\n",
              "      <td>0.0</td>\n",
              "      <td>0.0</td>\n",
              "    </tr>\n",
              "    <tr>\n",
              "      <th>1581</th>\n",
              "      <td>3105691</td>\n",
              "      <td>0.0</td>\n",
              "      <td>183560.0</td>\n",
              "      <td>3982.0</td>\n",
              "      <td>21.0</td>\n",
              "      <td>17.0</td>\n",
              "      <td>12.0</td>\n",
              "      <td>0.0</td>\n",
              "      <td>12.0</td>\n",
              "      <td>0.0</td>\n",
              "      <td>...</td>\n",
              "      <td>0.0</td>\n",
              "      <td>0.0</td>\n",
              "      <td>0.0</td>\n",
              "      <td>0.0</td>\n",
              "      <td>0.0</td>\n",
              "      <td>0.0</td>\n",
              "      <td>0.0</td>\n",
              "      <td>0.0</td>\n",
              "      <td>0.0</td>\n",
              "      <td>0.0</td>\n",
              "    </tr>\n",
              "    <tr>\n",
              "      <th>1582</th>\n",
              "      <td>3105284</td>\n",
              "      <td>0.0</td>\n",
              "      <td>83811.0</td>\n",
              "      <td>4671.0</td>\n",
              "      <td>19.0</td>\n",
              "      <td>3.0</td>\n",
              "      <td>0.0</td>\n",
              "      <td>0.0</td>\n",
              "      <td>0.0</td>\n",
              "      <td>0.0</td>\n",
              "      <td>...</td>\n",
              "      <td>0.0</td>\n",
              "      <td>0.0</td>\n",
              "      <td>0.0</td>\n",
              "      <td>236.0</td>\n",
              "      <td>0.0</td>\n",
              "      <td>236.0</td>\n",
              "      <td>0.0</td>\n",
              "      <td>0.0</td>\n",
              "      <td>0.0</td>\n",
              "      <td>0.0</td>\n",
              "    </tr>\n",
              "    <tr>\n",
              "      <th>1583</th>\n",
              "      <td>3105619</td>\n",
              "      <td>0.0</td>\n",
              "      <td>18947.0</td>\n",
              "      <td>2.0</td>\n",
              "      <td>2.0</td>\n",
              "      <td>2.0</td>\n",
              "      <td>0.0</td>\n",
              "      <td>0.0</td>\n",
              "      <td>0.0</td>\n",
              "      <td>0.0</td>\n",
              "      <td>...</td>\n",
              "      <td>0.0</td>\n",
              "      <td>0.0</td>\n",
              "      <td>0.0</td>\n",
              "      <td>0.0</td>\n",
              "      <td>0.0</td>\n",
              "      <td>0.0</td>\n",
              "      <td>0.0</td>\n",
              "      <td>0.0</td>\n",
              "      <td>0.0</td>\n",
              "      <td>0.0</td>\n",
              "    </tr>\n",
              "  </tbody>\n",
              "</table>\n",
              "<p>1584 rows × 2196 columns</p>\n",
              "</div>\n",
              "      <button class=\"colab-df-convert\" onclick=\"convertToInteractive('df-1d038c44-ff37-4a9f-a7a7-3ad19b8ef050')\"\n",
              "              title=\"Convert this dataframe to an interactive table.\"\n",
              "              style=\"display:none;\">\n",
              "        \n",
              "  <svg xmlns=\"http://www.w3.org/2000/svg\" height=\"24px\"viewBox=\"0 0 24 24\"\n",
              "       width=\"24px\">\n",
              "    <path d=\"M0 0h24v24H0V0z\" fill=\"none\"/>\n",
              "    <path d=\"M18.56 5.44l.94 2.06.94-2.06 2.06-.94-2.06-.94-.94-2.06-.94 2.06-2.06.94zm-11 1L8.5 8.5l.94-2.06 2.06-.94-2.06-.94L8.5 2.5l-.94 2.06-2.06.94zm10 10l.94 2.06.94-2.06 2.06-.94-2.06-.94-.94-2.06-.94 2.06-2.06.94z\"/><path d=\"M17.41 7.96l-1.37-1.37c-.4-.4-.92-.59-1.43-.59-.52 0-1.04.2-1.43.59L10.3 9.45l-7.72 7.72c-.78.78-.78 2.05 0 2.83L4 21.41c.39.39.9.59 1.41.59.51 0 1.02-.2 1.41-.59l7.78-7.78 2.81-2.81c.8-.78.8-2.07 0-2.86zM5.41 20L4 18.59l7.72-7.72 1.47 1.35L5.41 20z\"/>\n",
              "  </svg>\n",
              "      </button>\n",
              "      \n",
              "  <style>\n",
              "    .colab-df-container {\n",
              "      display:flex;\n",
              "      flex-wrap:wrap;\n",
              "      gap: 12px;\n",
              "    }\n",
              "\n",
              "    .colab-df-convert {\n",
              "      background-color: #E8F0FE;\n",
              "      border: none;\n",
              "      border-radius: 50%;\n",
              "      cursor: pointer;\n",
              "      display: none;\n",
              "      fill: #1967D2;\n",
              "      height: 32px;\n",
              "      padding: 0 0 0 0;\n",
              "      width: 32px;\n",
              "    }\n",
              "\n",
              "    .colab-df-convert:hover {\n",
              "      background-color: #E2EBFA;\n",
              "      box-shadow: 0px 1px 2px rgba(60, 64, 67, 0.3), 0px 1px 3px 1px rgba(60, 64, 67, 0.15);\n",
              "      fill: #174EA6;\n",
              "    }\n",
              "\n",
              "    [theme=dark] .colab-df-convert {\n",
              "      background-color: #3B4455;\n",
              "      fill: #D2E3FC;\n",
              "    }\n",
              "\n",
              "    [theme=dark] .colab-df-convert:hover {\n",
              "      background-color: #434B5C;\n",
              "      box-shadow: 0px 1px 3px 1px rgba(0, 0, 0, 0.15);\n",
              "      filter: drop-shadow(0px 1px 2px rgba(0, 0, 0, 0.3));\n",
              "      fill: #FFFFFF;\n",
              "    }\n",
              "  </style>\n",
              "\n",
              "      <script>\n",
              "        const buttonEl =\n",
              "          document.querySelector('#df-1d038c44-ff37-4a9f-a7a7-3ad19b8ef050 button.colab-df-convert');\n",
              "        buttonEl.style.display =\n",
              "          google.colab.kernel.accessAllowed ? 'block' : 'none';\n",
              "\n",
              "        async function convertToInteractive(key) {\n",
              "          const element = document.querySelector('#df-1d038c44-ff37-4a9f-a7a7-3ad19b8ef050');\n",
              "          const dataTable =\n",
              "            await google.colab.kernel.invokeFunction('convertToInteractive',\n",
              "                                                     [key], {});\n",
              "          if (!dataTable) return;\n",
              "\n",
              "          const docLinkHtml = 'Like what you see? Visit the ' +\n",
              "            '<a target=\"_blank\" href=https://colab.research.google.com/notebooks/data_table.ipynb>data table notebook</a>'\n",
              "            + ' to learn more about interactive tables.';\n",
              "          element.innerHTML = '';\n",
              "          dataTable['output_type'] = 'display_data';\n",
              "          await google.colab.output.renderOutput(dataTable, element);\n",
              "          const docLink = document.createElement('div');\n",
              "          docLink.innerHTML = docLinkHtml;\n",
              "          element.appendChild(docLink);\n",
              "        }\n",
              "      </script>\n",
              "    </div>\n",
              "  </div>\n",
              "  "
            ]
          },
          "metadata": {},
          "execution_count": 59
        }
      ]
    },
    {
      "cell_type": "code",
      "source": [
        "df['SampleID'] = df['SampleID'].astype(int)"
      ],
      "metadata": {
        "id": "CGeO3x7MrxIP"
      },
      "execution_count": 60,
      "outputs": []
    },
    {
      "cell_type": "code",
      "source": [
        "y['SampleID'] = y['SampleID'].astype(float)"
      ],
      "metadata": {
        "id": "amyn3MO1ycbt"
      },
      "execution_count": 61,
      "outputs": []
    },
    {
      "cell_type": "code",
      "source": [
        "y['SampleID'].dtype"
      ],
      "metadata": {
        "colab": {
          "base_uri": "https://localhost:8080/"
        },
        "id": "_5s5bODmynpb",
        "outputId": "b961d896-9aac-4068-8c9a-d1171fbc8552"
      },
      "execution_count": 62,
      "outputs": [
        {
          "output_type": "execute_result",
          "data": {
            "text/plain": [
              "dtype('float64')"
            ]
          },
          "metadata": {},
          "execution_count": 62
        }
      ]
    },
    {
      "cell_type": "markdown",
      "source": [
        "Get rid of samples with no associated targets and vice versa:"
      ],
      "metadata": {
        "id": "CUBdm6Jq_oOM"
      }
    },
    {
      "cell_type": "code",
      "source": [
        "df = df.merge(y, how = 'left', on = 'SampleID')"
      ],
      "metadata": {
        "id": "WvwGUG8foZZY"
      },
      "execution_count": 63,
      "outputs": []
    },
    {
      "cell_type": "code",
      "source": [
        "df"
      ],
      "metadata": {
        "colab": {
          "base_uri": "https://localhost:8080/",
          "height": 483
        },
        "id": "VHV3URvytYD4",
        "outputId": "28e67c67-be47-429a-b102-7f10cebcdcf0"
      },
      "execution_count": 64,
      "outputs": [
        {
          "output_type": "execute_result",
          "data": {
            "text/plain": [
              "      SampleID  \\\n",
              "0      3100170   \n",
              "1      3100175   \n",
              "2      3100176   \n",
              "3      3104031   \n",
              "4      3100180   \n",
              "...        ...   \n",
              "1579   3100051   \n",
              "1580   3106020   \n",
              "1581   3105691   \n",
              "1582   3105284   \n",
              "1583   3105619   \n",
              "\n",
              "      k__Archaea|p__Euryarchaeota|c__Methanobacteria|o__Methanobacteriales|f__Methanobacteriaceae|g__Methanobrevibacter|s__unclassified|470690  \\\n",
              "0                                                   0.0                                                                                          \n",
              "1                                                   0.0                                                                                          \n",
              "2                                                   0.0                                                                                          \n",
              "3                                                   0.0                                                                                          \n",
              "4                                                   0.0                                                                                          \n",
              "...                                                 ...                                                                                          \n",
              "1579                                                0.0                                                                                          \n",
              "1580                                                0.0                                                                                          \n",
              "1581                                                0.0                                                                                          \n",
              "1582                                                0.0                                                                                          \n",
              "1583                                                0.0                                                                                          \n",
              "\n",
              "      k__Bacteria  k__Bacteria|p__Actinobacteria|c__Actinobacteria  \\\n",
              "0         22452.0                                           3062.0   \n",
              "1         80360.0                                           9373.0   \n",
              "2         17359.0                                           1776.0   \n",
              "3         37957.0                                           4767.0   \n",
              "4         26033.0                                          21736.0   \n",
              "...           ...                                              ...   \n",
              "1579       7831.0                                           1328.0   \n",
              "1580      20256.0                                            513.0   \n",
              "1581     183560.0                                           3982.0   \n",
              "1582      83811.0                                           4671.0   \n",
              "1583      18947.0                                              2.0   \n",
              "\n",
              "      k__Bacteria|p__Actinobacteria|c__Actinobacteria|o__Actinomycetales  \\\n",
              "0                                                  24.0                    \n",
              "1                                                  48.0                    \n",
              "2                                                   1.0                    \n",
              "3                                                  15.0                    \n",
              "4                                                 217.0                    \n",
              "...                                                 ...                    \n",
              "1579                                                0.0                    \n",
              "1580                                              146.0                    \n",
              "1581                                               21.0                    \n",
              "1582                                               19.0                    \n",
              "1583                                                2.0                    \n",
              "\n",
              "      k__Bacteria|p__Actinobacteria|c__Actinobacteria|o__Actinomycetales|f__Actinomycetaceae  \\\n",
              "0                                                  24.0                                        \n",
              "1                                                  30.0                                        \n",
              "2                                                   1.0                                        \n",
              "3                                                  14.0                                        \n",
              "4                                                 207.0                                        \n",
              "...                                                 ...                                        \n",
              "1579                                                0.0                                        \n",
              "1580                                              146.0                                        \n",
              "1581                                               17.0                                        \n",
              "1582                                                3.0                                        \n",
              "1583                                                2.0                                        \n",
              "\n",
              "      k__Bacteria|p__Actinobacteria|c__Actinobacteria|o__Actinomycetales|f__Actinomycetaceae|g__Actinomyces|s__unclassified  \\\n",
              "0                                                  20.0                                                                       \n",
              "1                                                  21.0                                                                       \n",
              "2                                                   1.0                                                                       \n",
              "3                                                  14.0                                                                       \n",
              "4                                                   0.0                                                                       \n",
              "...                                                 ...                                                                       \n",
              "1579                                                0.0                                                                       \n",
              "1580                                              146.0                                                                       \n",
              "1581                                               12.0                                                                       \n",
              "1582                                                0.0                                                                       \n",
              "1583                                                0.0                                                                       \n",
              "\n",
              "      k__Bacteria|p__Actinobacteria|c__Actinobacteria|o__Actinomycetales|f__Actinomycetaceae|g__Actinomyces|s__unclassified|12568  \\\n",
              "0                                                   0.0                                                                             \n",
              "1                                                   0.0                                                                             \n",
              "2                                                   0.0                                                                             \n",
              "3                                                   0.0                                                                             \n",
              "4                                                   0.0                                                                             \n",
              "...                                                 ...                                                                             \n",
              "1579                                                0.0                                                                             \n",
              "1580                                              146.0                                                                             \n",
              "1581                                                0.0                                                                             \n",
              "1582                                                0.0                                                                             \n",
              "1583                                                0.0                                                                             \n",
              "\n",
              "      k__Bacteria|p__Actinobacteria|c__Actinobacteria|o__Actinomycetales|f__Actinomycetaceae|g__Actinomyces|s__unclassified|370432  \\\n",
              "0                                                  20.0                                                                              \n",
              "1                                                  20.0                                                                              \n",
              "2                                                   1.0                                                                              \n",
              "3                                                  14.0                                                                              \n",
              "4                                                   0.0                                                                              \n",
              "...                                                 ...                                                                              \n",
              "1579                                                0.0                                                                              \n",
              "1580                                                0.0                                                                              \n",
              "1581                                               12.0                                                                              \n",
              "1582                                                0.0                                                                              \n",
              "1583                                                0.0                                                                              \n",
              "\n",
              "      k__Bacteria|p__Actinobacteria|c__Actinobacteria|o__Actinomycetales|f__Actinomycetaceae|g__Actinomyces|s__unclassified|565136  \\\n",
              "0                                                   0.0                                                                              \n",
              "1                                                   0.0                                                                              \n",
              "2                                                   0.0                                                                              \n",
              "3                                                   0.0                                                                              \n",
              "4                                                   0.0                                                                              \n",
              "...                                                 ...                                                                              \n",
              "1579                                                0.0                                                                              \n",
              "1580                                                0.0                                                                              \n",
              "1581                                                0.0                                                                              \n",
              "1582                                                0.0                                                                              \n",
              "1583                                                0.0                                                                              \n",
              "\n",
              "      ...  \\\n",
              "0     ...   \n",
              "1     ...   \n",
              "2     ...   \n",
              "3     ...   \n",
              "4     ...   \n",
              "...   ...   \n",
              "1579  ...   \n",
              "1580  ...   \n",
              "1581  ...   \n",
              "1582  ...   \n",
              "1583  ...   \n",
              "\n",
              "      k__Bacteria|p__Tenericutes|c__Mollicutes|o__RF39|f__unclassified|g__unclassified|s__unclassified|368734  \\\n",
              "0                                                   0.0                                                         \n",
              "1                                                   0.0                                                         \n",
              "2                                                   0.0                                                         \n",
              "3                                                   0.0                                                         \n",
              "4                                                   0.0                                                         \n",
              "...                                                 ...                                                         \n",
              "1579                                                0.0                                                         \n",
              "1580                                                0.0                                                         \n",
              "1581                                                0.0                                                         \n",
              "1582                                                0.0                                                         \n",
              "1583                                                0.0                                                         \n",
              "\n",
              "      k__Bacteria|p__Tenericutes|c__Mollicutes|o__RF39|f__unclassified|g__unclassified|s__unclassified|513605  \\\n",
              "0                                                   0.0                                                         \n",
              "1                                                   0.0                                                         \n",
              "2                                                   0.0                                                         \n",
              "3                                                   0.0                                                         \n",
              "4                                                   0.0                                                         \n",
              "...                                                 ...                                                         \n",
              "1579                                                0.0                                                         \n",
              "1580                                                0.0                                                         \n",
              "1581                                                0.0                                                         \n",
              "1582                                                0.0                                                         \n",
              "1583                                                0.0                                                         \n",
              "\n",
              "      k__Bacteria|p__Verrucomicrobia|c__Verrucomicrobiae|o__Verrucomicrobiales|f__Verrucomicrobiaceae|g__Akkermansia|s__muciniphila  \\\n",
              "0                                                   0.0                                                                               \n",
              "1                                                1138.0                                                                               \n",
              "2                                                 179.0                                                                               \n",
              "3                                                   3.0                                                                               \n",
              "4                                                   0.0                                                                               \n",
              "...                                                 ...                                                                               \n",
              "1579                                                0.0                                                                               \n",
              "1580                                                0.0                                                                               \n",
              "1581                                                0.0                                                                               \n",
              "1582                                              236.0                                                                               \n",
              "1583                                                0.0                                                                               \n",
              "\n",
              "      k__Bacteria|p__Verrucomicrobia|c__Verrucomicrobiae|o__Verrucomicrobiales|f__Verrucomicrobiaceae|g__Akkermansia|s__muciniphila|178331  \\\n",
              "0                                                   0.0                                                                                      \n",
              "1                                                   5.0                                                                                      \n",
              "2                                                   0.0                                                                                      \n",
              "3                                                   0.0                                                                                      \n",
              "4                                                   0.0                                                                                      \n",
              "...                                                 ...                                                                                      \n",
              "1579                                                0.0                                                                                      \n",
              "1580                                                0.0                                                                                      \n",
              "1581                                                0.0                                                                                      \n",
              "1582                                                0.0                                                                                      \n",
              "1583                                                0.0                                                                                      \n",
              "\n",
              "      k__Bacteria|p__Verrucomicrobia|c__Verrucomicrobiae|o__Verrucomicrobiales|f__Verrucomicrobiaceae|g__Akkermansia|s__muciniphila|264696  \\\n",
              "0                                                   0.0                                                                                      \n",
              "1                                                1131.0                                                                                      \n",
              "2                                                 179.0                                                                                      \n",
              "3                                                   3.0                                                                                      \n",
              "4                                                   0.0                                                                                      \n",
              "...                                                 ...                                                                                      \n",
              "1579                                                0.0                                                                                      \n",
              "1580                                                0.0                                                                                      \n",
              "1581                                                0.0                                                                                      \n",
              "1582                                              236.0                                                                                      \n",
              "1583                                                0.0                                                                                      \n",
              "\n",
              "      k__Bacteria|p__Verrucomicrobia|c__Verrucomicrobiae|o__Verrucomicrobiales|f__Verrucomicrobiaceae|g__Akkermansia|s__muciniphila|363731  \\\n",
              "0                                                   0.0                                                                                      \n",
              "1                                                   2.0                                                                                      \n",
              "2                                                   0.0                                                                                      \n",
              "3                                                   0.0                                                                                      \n",
              "4                                                   0.0                                                                                      \n",
              "...                                                 ...                                                                                      \n",
              "1579                                                0.0                                                                                      \n",
              "1580                                                0.0                                                                                      \n",
              "1581                                                0.0                                                                                      \n",
              "1582                                                0.0                                                                                      \n",
              "1583                                                0.0                                                                                      \n",
              "\n",
              "      k__Bacteria|p__Verrucomicrobia|c__Verrucomicrobiae|o__Verrucomicrobiales|f__Verrucomicrobiaceae|g__Akkermansia|s__muciniphila|561627  \\\n",
              "0                                                   0.0                                                                                      \n",
              "1                                                   0.0                                                                                      \n",
              "2                                                   0.0                                                                                      \n",
              "3                                                   0.0                                                                                      \n",
              "4                                                   0.0                                                                                      \n",
              "...                                                 ...                                                                                      \n",
              "1579                                                0.0                                                                                      \n",
              "1580                                                0.0                                                                                      \n",
              "1581                                                0.0                                                                                      \n",
              "1582                                                0.0                                                                                      \n",
              "1583                                                0.0                                                                                      \n",
              "\n",
              "      k__Bacteria|p__Verrucomicrobia|c__Verrucomicrobiae|o__Verrucomicrobiales|f__Verrucomicrobiaceae|g__Akkermansia|s__muciniphila|588471  \\\n",
              "0                                                   0.0                                                                                      \n",
              "1                                                   0.0                                                                                      \n",
              "2                                                   0.0                                                                                      \n",
              "3                                                   0.0                                                                                      \n",
              "4                                                   0.0                                                                                      \n",
              "...                                                 ...                                                                                      \n",
              "1579                                                0.0                                                                                      \n",
              "1580                                                0.0                                                                                      \n",
              "1581                                                0.0                                                                                      \n",
              "1582                                                0.0                                                                                      \n",
              "1583                                                0.0                                                                                      \n",
              "\n",
              "      k__Bacteria|p__Verrucomicrobia|c__Verrucomicrobiae|o__Verrucomicrobiales|f__Verrucomicrobiaceae|g__Akkermansia|s__muciniphila|593043  \\\n",
              "0                                                   0.0                                                                                      \n",
              "1                                                   0.0                                                                                      \n",
              "2                                                   0.0                                                                                      \n",
              "3                                                   0.0                                                                                      \n",
              "4                                                   0.0                                                                                      \n",
              "...                                                 ...                                                                                      \n",
              "1579                                                0.0                                                                                      \n",
              "1580                                                0.0                                                                                      \n",
              "1581                                                0.0                                                                                      \n",
              "1582                                                0.0                                                                                      \n",
              "1583                                                0.0                                                                                      \n",
              "\n",
              "      target  \n",
              "0       True  \n",
              "1       True  \n",
              "2      False  \n",
              "3       True  \n",
              "4      False  \n",
              "...      ...  \n",
              "1579   False  \n",
              "1580    True  \n",
              "1581    True  \n",
              "1582    True  \n",
              "1583    True  \n",
              "\n",
              "[1584 rows x 2197 columns]"
            ],
            "text/html": [
              "\n",
              "  <div id=\"df-2d77f5c0-aa7d-494d-ab64-10f3c20823e0\">\n",
              "    <div class=\"colab-df-container\">\n",
              "      <div>\n",
              "<style scoped>\n",
              "    .dataframe tbody tr th:only-of-type {\n",
              "        vertical-align: middle;\n",
              "    }\n",
              "\n",
              "    .dataframe tbody tr th {\n",
              "        vertical-align: top;\n",
              "    }\n",
              "\n",
              "    .dataframe thead th {\n",
              "        text-align: right;\n",
              "    }\n",
              "</style>\n",
              "<table border=\"1\" class=\"dataframe\">\n",
              "  <thead>\n",
              "    <tr style=\"text-align: right;\">\n",
              "      <th></th>\n",
              "      <th>SampleID</th>\n",
              "      <th>k__Archaea|p__Euryarchaeota|c__Methanobacteria|o__Methanobacteriales|f__Methanobacteriaceae|g__Methanobrevibacter|s__unclassified|470690</th>\n",
              "      <th>k__Bacteria</th>\n",
              "      <th>k__Bacteria|p__Actinobacteria|c__Actinobacteria</th>\n",
              "      <th>k__Bacteria|p__Actinobacteria|c__Actinobacteria|o__Actinomycetales</th>\n",
              "      <th>k__Bacteria|p__Actinobacteria|c__Actinobacteria|o__Actinomycetales|f__Actinomycetaceae</th>\n",
              "      <th>k__Bacteria|p__Actinobacteria|c__Actinobacteria|o__Actinomycetales|f__Actinomycetaceae|g__Actinomyces|s__unclassified</th>\n",
              "      <th>k__Bacteria|p__Actinobacteria|c__Actinobacteria|o__Actinomycetales|f__Actinomycetaceae|g__Actinomyces|s__unclassified|12568</th>\n",
              "      <th>k__Bacteria|p__Actinobacteria|c__Actinobacteria|o__Actinomycetales|f__Actinomycetaceae|g__Actinomyces|s__unclassified|370432</th>\n",
              "      <th>k__Bacteria|p__Actinobacteria|c__Actinobacteria|o__Actinomycetales|f__Actinomycetaceae|g__Actinomyces|s__unclassified|565136</th>\n",
              "      <th>...</th>\n",
              "      <th>k__Bacteria|p__Tenericutes|c__Mollicutes|o__RF39|f__unclassified|g__unclassified|s__unclassified|368734</th>\n",
              "      <th>k__Bacteria|p__Tenericutes|c__Mollicutes|o__RF39|f__unclassified|g__unclassified|s__unclassified|513605</th>\n",
              "      <th>k__Bacteria|p__Verrucomicrobia|c__Verrucomicrobiae|o__Verrucomicrobiales|f__Verrucomicrobiaceae|g__Akkermansia|s__muciniphila</th>\n",
              "      <th>k__Bacteria|p__Verrucomicrobia|c__Verrucomicrobiae|o__Verrucomicrobiales|f__Verrucomicrobiaceae|g__Akkermansia|s__muciniphila|178331</th>\n",
              "      <th>k__Bacteria|p__Verrucomicrobia|c__Verrucomicrobiae|o__Verrucomicrobiales|f__Verrucomicrobiaceae|g__Akkermansia|s__muciniphila|264696</th>\n",
              "      <th>k__Bacteria|p__Verrucomicrobia|c__Verrucomicrobiae|o__Verrucomicrobiales|f__Verrucomicrobiaceae|g__Akkermansia|s__muciniphila|363731</th>\n",
              "      <th>k__Bacteria|p__Verrucomicrobia|c__Verrucomicrobiae|o__Verrucomicrobiales|f__Verrucomicrobiaceae|g__Akkermansia|s__muciniphila|561627</th>\n",
              "      <th>k__Bacteria|p__Verrucomicrobia|c__Verrucomicrobiae|o__Verrucomicrobiales|f__Verrucomicrobiaceae|g__Akkermansia|s__muciniphila|588471</th>\n",
              "      <th>k__Bacteria|p__Verrucomicrobia|c__Verrucomicrobiae|o__Verrucomicrobiales|f__Verrucomicrobiaceae|g__Akkermansia|s__muciniphila|593043</th>\n",
              "      <th>target</th>\n",
              "    </tr>\n",
              "  </thead>\n",
              "  <tbody>\n",
              "    <tr>\n",
              "      <th>0</th>\n",
              "      <td>3100170</td>\n",
              "      <td>0.0</td>\n",
              "      <td>22452.0</td>\n",
              "      <td>3062.0</td>\n",
              "      <td>24.0</td>\n",
              "      <td>24.0</td>\n",
              "      <td>20.0</td>\n",
              "      <td>0.0</td>\n",
              "      <td>20.0</td>\n",
              "      <td>0.0</td>\n",
              "      <td>...</td>\n",
              "      <td>0.0</td>\n",
              "      <td>0.0</td>\n",
              "      <td>0.0</td>\n",
              "      <td>0.0</td>\n",
              "      <td>0.0</td>\n",
              "      <td>0.0</td>\n",
              "      <td>0.0</td>\n",
              "      <td>0.0</td>\n",
              "      <td>0.0</td>\n",
              "      <td>True</td>\n",
              "    </tr>\n",
              "    <tr>\n",
              "      <th>1</th>\n",
              "      <td>3100175</td>\n",
              "      <td>0.0</td>\n",
              "      <td>80360.0</td>\n",
              "      <td>9373.0</td>\n",
              "      <td>48.0</td>\n",
              "      <td>30.0</td>\n",
              "      <td>21.0</td>\n",
              "      <td>0.0</td>\n",
              "      <td>20.0</td>\n",
              "      <td>0.0</td>\n",
              "      <td>...</td>\n",
              "      <td>0.0</td>\n",
              "      <td>0.0</td>\n",
              "      <td>1138.0</td>\n",
              "      <td>5.0</td>\n",
              "      <td>1131.0</td>\n",
              "      <td>2.0</td>\n",
              "      <td>0.0</td>\n",
              "      <td>0.0</td>\n",
              "      <td>0.0</td>\n",
              "      <td>True</td>\n",
              "    </tr>\n",
              "    <tr>\n",
              "      <th>2</th>\n",
              "      <td>3100176</td>\n",
              "      <td>0.0</td>\n",
              "      <td>17359.0</td>\n",
              "      <td>1776.0</td>\n",
              "      <td>1.0</td>\n",
              "      <td>1.0</td>\n",
              "      <td>1.0</td>\n",
              "      <td>0.0</td>\n",
              "      <td>1.0</td>\n",
              "      <td>0.0</td>\n",
              "      <td>...</td>\n",
              "      <td>0.0</td>\n",
              "      <td>0.0</td>\n",
              "      <td>179.0</td>\n",
              "      <td>0.0</td>\n",
              "      <td>179.0</td>\n",
              "      <td>0.0</td>\n",
              "      <td>0.0</td>\n",
              "      <td>0.0</td>\n",
              "      <td>0.0</td>\n",
              "      <td>False</td>\n",
              "    </tr>\n",
              "    <tr>\n",
              "      <th>3</th>\n",
              "      <td>3104031</td>\n",
              "      <td>0.0</td>\n",
              "      <td>37957.0</td>\n",
              "      <td>4767.0</td>\n",
              "      <td>15.0</td>\n",
              "      <td>14.0</td>\n",
              "      <td>14.0</td>\n",
              "      <td>0.0</td>\n",
              "      <td>14.0</td>\n",
              "      <td>0.0</td>\n",
              "      <td>...</td>\n",
              "      <td>0.0</td>\n",
              "      <td>0.0</td>\n",
              "      <td>3.0</td>\n",
              "      <td>0.0</td>\n",
              "      <td>3.0</td>\n",
              "      <td>0.0</td>\n",
              "      <td>0.0</td>\n",
              "      <td>0.0</td>\n",
              "      <td>0.0</td>\n",
              "      <td>True</td>\n",
              "    </tr>\n",
              "    <tr>\n",
              "      <th>4</th>\n",
              "      <td>3100180</td>\n",
              "      <td>0.0</td>\n",
              "      <td>26033.0</td>\n",
              "      <td>21736.0</td>\n",
              "      <td>217.0</td>\n",
              "      <td>207.0</td>\n",
              "      <td>0.0</td>\n",
              "      <td>0.0</td>\n",
              "      <td>0.0</td>\n",
              "      <td>0.0</td>\n",
              "      <td>...</td>\n",
              "      <td>0.0</td>\n",
              "      <td>0.0</td>\n",
              "      <td>0.0</td>\n",
              "      <td>0.0</td>\n",
              "      <td>0.0</td>\n",
              "      <td>0.0</td>\n",
              "      <td>0.0</td>\n",
              "      <td>0.0</td>\n",
              "      <td>0.0</td>\n",
              "      <td>False</td>\n",
              "    </tr>\n",
              "    <tr>\n",
              "      <th>...</th>\n",
              "      <td>...</td>\n",
              "      <td>...</td>\n",
              "      <td>...</td>\n",
              "      <td>...</td>\n",
              "      <td>...</td>\n",
              "      <td>...</td>\n",
              "      <td>...</td>\n",
              "      <td>...</td>\n",
              "      <td>...</td>\n",
              "      <td>...</td>\n",
              "      <td>...</td>\n",
              "      <td>...</td>\n",
              "      <td>...</td>\n",
              "      <td>...</td>\n",
              "      <td>...</td>\n",
              "      <td>...</td>\n",
              "      <td>...</td>\n",
              "      <td>...</td>\n",
              "      <td>...</td>\n",
              "      <td>...</td>\n",
              "      <td>...</td>\n",
              "    </tr>\n",
              "    <tr>\n",
              "      <th>1579</th>\n",
              "      <td>3100051</td>\n",
              "      <td>0.0</td>\n",
              "      <td>7831.0</td>\n",
              "      <td>1328.0</td>\n",
              "      <td>0.0</td>\n",
              "      <td>0.0</td>\n",
              "      <td>0.0</td>\n",
              "      <td>0.0</td>\n",
              "      <td>0.0</td>\n",
              "      <td>0.0</td>\n",
              "      <td>...</td>\n",
              "      <td>0.0</td>\n",
              "      <td>0.0</td>\n",
              "      <td>0.0</td>\n",
              "      <td>0.0</td>\n",
              "      <td>0.0</td>\n",
              "      <td>0.0</td>\n",
              "      <td>0.0</td>\n",
              "      <td>0.0</td>\n",
              "      <td>0.0</td>\n",
              "      <td>False</td>\n",
              "    </tr>\n",
              "    <tr>\n",
              "      <th>1580</th>\n",
              "      <td>3106020</td>\n",
              "      <td>0.0</td>\n",
              "      <td>20256.0</td>\n",
              "      <td>513.0</td>\n",
              "      <td>146.0</td>\n",
              "      <td>146.0</td>\n",
              "      <td>146.0</td>\n",
              "      <td>146.0</td>\n",
              "      <td>0.0</td>\n",
              "      <td>0.0</td>\n",
              "      <td>...</td>\n",
              "      <td>0.0</td>\n",
              "      <td>0.0</td>\n",
              "      <td>0.0</td>\n",
              "      <td>0.0</td>\n",
              "      <td>0.0</td>\n",
              "      <td>0.0</td>\n",
              "      <td>0.0</td>\n",
              "      <td>0.0</td>\n",
              "      <td>0.0</td>\n",
              "      <td>True</td>\n",
              "    </tr>\n",
              "    <tr>\n",
              "      <th>1581</th>\n",
              "      <td>3105691</td>\n",
              "      <td>0.0</td>\n",
              "      <td>183560.0</td>\n",
              "      <td>3982.0</td>\n",
              "      <td>21.0</td>\n",
              "      <td>17.0</td>\n",
              "      <td>12.0</td>\n",
              "      <td>0.0</td>\n",
              "      <td>12.0</td>\n",
              "      <td>0.0</td>\n",
              "      <td>...</td>\n",
              "      <td>0.0</td>\n",
              "      <td>0.0</td>\n",
              "      <td>0.0</td>\n",
              "      <td>0.0</td>\n",
              "      <td>0.0</td>\n",
              "      <td>0.0</td>\n",
              "      <td>0.0</td>\n",
              "      <td>0.0</td>\n",
              "      <td>0.0</td>\n",
              "      <td>True</td>\n",
              "    </tr>\n",
              "    <tr>\n",
              "      <th>1582</th>\n",
              "      <td>3105284</td>\n",
              "      <td>0.0</td>\n",
              "      <td>83811.0</td>\n",
              "      <td>4671.0</td>\n",
              "      <td>19.0</td>\n",
              "      <td>3.0</td>\n",
              "      <td>0.0</td>\n",
              "      <td>0.0</td>\n",
              "      <td>0.0</td>\n",
              "      <td>0.0</td>\n",
              "      <td>...</td>\n",
              "      <td>0.0</td>\n",
              "      <td>0.0</td>\n",
              "      <td>236.0</td>\n",
              "      <td>0.0</td>\n",
              "      <td>236.0</td>\n",
              "      <td>0.0</td>\n",
              "      <td>0.0</td>\n",
              "      <td>0.0</td>\n",
              "      <td>0.0</td>\n",
              "      <td>True</td>\n",
              "    </tr>\n",
              "    <tr>\n",
              "      <th>1583</th>\n",
              "      <td>3105619</td>\n",
              "      <td>0.0</td>\n",
              "      <td>18947.0</td>\n",
              "      <td>2.0</td>\n",
              "      <td>2.0</td>\n",
              "      <td>2.0</td>\n",
              "      <td>0.0</td>\n",
              "      <td>0.0</td>\n",
              "      <td>0.0</td>\n",
              "      <td>0.0</td>\n",
              "      <td>...</td>\n",
              "      <td>0.0</td>\n",
              "      <td>0.0</td>\n",
              "      <td>0.0</td>\n",
              "      <td>0.0</td>\n",
              "      <td>0.0</td>\n",
              "      <td>0.0</td>\n",
              "      <td>0.0</td>\n",
              "      <td>0.0</td>\n",
              "      <td>0.0</td>\n",
              "      <td>True</td>\n",
              "    </tr>\n",
              "  </tbody>\n",
              "</table>\n",
              "<p>1584 rows × 2197 columns</p>\n",
              "</div>\n",
              "      <button class=\"colab-df-convert\" onclick=\"convertToInteractive('df-2d77f5c0-aa7d-494d-ab64-10f3c20823e0')\"\n",
              "              title=\"Convert this dataframe to an interactive table.\"\n",
              "              style=\"display:none;\">\n",
              "        \n",
              "  <svg xmlns=\"http://www.w3.org/2000/svg\" height=\"24px\"viewBox=\"0 0 24 24\"\n",
              "       width=\"24px\">\n",
              "    <path d=\"M0 0h24v24H0V0z\" fill=\"none\"/>\n",
              "    <path d=\"M18.56 5.44l.94 2.06.94-2.06 2.06-.94-2.06-.94-.94-2.06-.94 2.06-2.06.94zm-11 1L8.5 8.5l.94-2.06 2.06-.94-2.06-.94L8.5 2.5l-.94 2.06-2.06.94zm10 10l.94 2.06.94-2.06 2.06-.94-2.06-.94-.94-2.06-.94 2.06-2.06.94z\"/><path d=\"M17.41 7.96l-1.37-1.37c-.4-.4-.92-.59-1.43-.59-.52 0-1.04.2-1.43.59L10.3 9.45l-7.72 7.72c-.78.78-.78 2.05 0 2.83L4 21.41c.39.39.9.59 1.41.59.51 0 1.02-.2 1.41-.59l7.78-7.78 2.81-2.81c.8-.78.8-2.07 0-2.86zM5.41 20L4 18.59l7.72-7.72 1.47 1.35L5.41 20z\"/>\n",
              "  </svg>\n",
              "      </button>\n",
              "      \n",
              "  <style>\n",
              "    .colab-df-container {\n",
              "      display:flex;\n",
              "      flex-wrap:wrap;\n",
              "      gap: 12px;\n",
              "    }\n",
              "\n",
              "    .colab-df-convert {\n",
              "      background-color: #E8F0FE;\n",
              "      border: none;\n",
              "      border-radius: 50%;\n",
              "      cursor: pointer;\n",
              "      display: none;\n",
              "      fill: #1967D2;\n",
              "      height: 32px;\n",
              "      padding: 0 0 0 0;\n",
              "      width: 32px;\n",
              "    }\n",
              "\n",
              "    .colab-df-convert:hover {\n",
              "      background-color: #E2EBFA;\n",
              "      box-shadow: 0px 1px 2px rgba(60, 64, 67, 0.3), 0px 1px 3px 1px rgba(60, 64, 67, 0.15);\n",
              "      fill: #174EA6;\n",
              "    }\n",
              "\n",
              "    [theme=dark] .colab-df-convert {\n",
              "      background-color: #3B4455;\n",
              "      fill: #D2E3FC;\n",
              "    }\n",
              "\n",
              "    [theme=dark] .colab-df-convert:hover {\n",
              "      background-color: #434B5C;\n",
              "      box-shadow: 0px 1px 3px 1px rgba(0, 0, 0, 0.15);\n",
              "      filter: drop-shadow(0px 1px 2px rgba(0, 0, 0, 0.3));\n",
              "      fill: #FFFFFF;\n",
              "    }\n",
              "  </style>\n",
              "\n",
              "      <script>\n",
              "        const buttonEl =\n",
              "          document.querySelector('#df-2d77f5c0-aa7d-494d-ab64-10f3c20823e0 button.colab-df-convert');\n",
              "        buttonEl.style.display =\n",
              "          google.colab.kernel.accessAllowed ? 'block' : 'none';\n",
              "\n",
              "        async function convertToInteractive(key) {\n",
              "          const element = document.querySelector('#df-2d77f5c0-aa7d-494d-ab64-10f3c20823e0');\n",
              "          const dataTable =\n",
              "            await google.colab.kernel.invokeFunction('convertToInteractive',\n",
              "                                                     [key], {});\n",
              "          if (!dataTable) return;\n",
              "\n",
              "          const docLinkHtml = 'Like what you see? Visit the ' +\n",
              "            '<a target=\"_blank\" href=https://colab.research.google.com/notebooks/data_table.ipynb>data table notebook</a>'\n",
              "            + ' to learn more about interactive tables.';\n",
              "          element.innerHTML = '';\n",
              "          dataTable['output_type'] = 'display_data';\n",
              "          await google.colab.output.renderOutput(dataTable, element);\n",
              "          const docLink = document.createElement('div');\n",
              "          docLink.innerHTML = docLinkHtml;\n",
              "          element.appendChild(docLink);\n",
              "        }\n",
              "      </script>\n",
              "    </div>\n",
              "  </div>\n",
              "  "
            ]
          },
          "metadata": {},
          "execution_count": 64
        }
      ]
    },
    {
      "cell_type": "code",
      "source": [
        "X = df.drop('target', axis=1)\n",
        "y = df['target']"
      ],
      "metadata": {
        "id": "1jq7fNxHzrrP"
      },
      "execution_count": 65,
      "outputs": []
    },
    {
      "cell_type": "code",
      "source": [
        "print(\"Class distribution:\")\n",
        "print(y.value_counts())"
      ],
      "metadata": {
        "colab": {
          "base_uri": "https://localhost:8080/"
        },
        "id": "GBOf-axpqNyw",
        "outputId": "8625b7c2-ab2f-4b2d-8a43-1efaefa19109"
      },
      "execution_count": 66,
      "outputs": [
        {
          "output_type": "stream",
          "name": "stdout",
          "text": [
            "Class distribution:\n",
            "True     1084\n",
            "False     500\n",
            "Name: target, dtype: int64\n"
          ]
        }
      ]
    },
    {
      "cell_type": "markdown",
      "source": [
        "Exploratory Data Analysis"
      ],
      "metadata": {
        "id": "9pdSD4cg_yff"
      }
    },
    {
      "cell_type": "code",
      "source": [
        "#TSNE\n",
        "import matplotlib.pyplot as plt\n",
        "import seaborn as sns\n",
        "from sklearn.manifold import TSNE \n",
        "n_components = 2\n",
        "tsne = TSNE(n_components, perplexity=4)\n",
        "tsne_result = tsne.fit_transform(X)\n",
        "tsne_result.shape"
      ],
      "metadata": {
        "id": "DgpiPMmlIaZe",
        "colab": {
          "base_uri": "https://localhost:8080/"
        },
        "outputId": "b0226694-57a9-4577-d9bc-55a0a99748f8"
      },
      "execution_count": null,
      "outputs": [
        {
          "output_type": "stream",
          "name": "stderr",
          "text": [
            "/usr/local/lib/python3.8/dist-packages/sklearn/manifold/_t_sne.py:780: FutureWarning: The default initialization in TSNE will change from 'random' to 'pca' in 1.2.\n",
            "  warnings.warn(\n",
            "/usr/local/lib/python3.8/dist-packages/sklearn/manifold/_t_sne.py:790: FutureWarning: The default learning rate in TSNE will change from 200.0 to 'auto' in 1.2.\n",
            "  warnings.warn(\n"
          ]
        },
        {
          "output_type": "execute_result",
          "data": {
            "text/plain": [
              "(1584, 2)"
            ]
          },
          "metadata": {},
          "execution_count": 16
        }
      ]
    },
    {
      "cell_type": "code",
      "source": [
        "# Plot the result of our TSNE with the label color coded\n",
        "tsne_result_df = pd.DataFrame({'tsne_1': tsne_result[:,0], 'tsne_2': tsne_result[:,1], 'label': y})\n",
        "fig, ax = plt.subplots(1)\n",
        "sns.scatterplot(x='tsne_1', y='tsne_2', hue='label', data=tsne_result_df, ax=ax,s=120)\n",
        "lim = (tsne_result.min()-5, tsne_result.max()+5)\n",
        "ax.set_xlim(lim)\n",
        "ax.set_ylim(lim)\n",
        "ax.set_aspect('equal')\n",
        "ax.legend(bbox_to_anchor=(1.05, 1), loc=2, borderaxespad=0.0)"
      ],
      "metadata": {
        "colab": {
          "base_uri": "https://localhost:8080/",
          "height": 297
        },
        "id": "VZMJhUdwJGwG",
        "outputId": "ed7c0357-05dc-45e7-813f-06397cd85c5f"
      },
      "execution_count": null,
      "outputs": [
        {
          "output_type": "execute_result",
          "data": {
            "text/plain": [
              "<matplotlib.legend.Legend at 0x7f0ec7d87f10>"
            ]
          },
          "metadata": {},
          "execution_count": 17
        },
        {
          "output_type": "display_data",
          "data": {
            "text/plain": [
              "<Figure size 432x288 with 1 Axes>"
            ],
            "image/png": "[encoded data removed]"
          },
          "metadata": {
            "needs_background": "light"
          }
        }
      ]
    },
    {
      "cell_type": "code",
      "source": [
        "#K-Means Clustering\n",
        "from sklearn.preprocessing import StandardScaler  # For scaling dataset\n",
        "from sklearn.cluster import KMeans, AgglomerativeClustering, AffinityPropagation #For clustering\n",
        "from sklearn.mixture import GaussianMixture #For GMM clustering\n",
        "import matplotlib.pyplot as plt\n",
        "import numpy as np\n",
        "\n",
        "df1 = df[list(df.columns)]\n",
        "ss = StandardScaler()\n",
        "ss.fit_transform(df1)\n",
        "\n",
        "\n",
        "kmeans = KMeans(n_clusters= 2)\n",
        " \n",
        "label = kmeans.fit_predict(df1)\n",
        " \n",
        "filtered_label0 = df1[label == 0]\n",
        "filtered_label1 = df1[label == 1]\n",
        "\n",
        "df1 = df[list(df.columns)]\n",
        "df1=df1.values\n",
        "#df1 = np.array(df1)\n",
        "\n",
        "fig, ax = plt.subplots()\n",
        "\n",
        "ax.scatter(df1[label == 0 , 0] , df1[label == 0 , 1] , label = 0)\n",
        "ax.scatter(df1[label == 1 , 0] , df1[label == 1 , 1] , label = 1)\n",
        "ax.legend()\n",
        "ax.set_xlim([3.095e6, 3.12e6])\n",
        "ax.set_ylim([0, 40])\n",
        "plt.show()"
      ],
      "metadata": {
        "colab": {
          "base_uri": "https://localhost:8080/",
          "height": 282
        },
        "id": "bWVjG2Wl_7as",
        "outputId": "031ed710-7744-4077-db05-3d385e949a79"
      },
      "execution_count": null,
      "outputs": [
        {
          "output_type": "display_data",
          "data": {
            "text/plain": [
              "<Figure size 432x288 with 1 Axes>"
            ],
            "image/png": "[encoded data removed]"
          },
          "metadata": {
            "needs_background": "light"
          }
        }
      ]
    },
    {
      "cell_type": "markdown",
      "source": [
        "Train-test Split"
      ],
      "metadata": {
        "id": "-mRE8bH_AVDD"
      }
    },
    {
      "cell_type": "code",
      "source": [
        "column_names = list(X.columns)"
      ],
      "metadata": {
        "id": "TUQcnPY0xL2W"
      },
      "execution_count": 67,
      "outputs": []
    },
    {
      "cell_type": "code",
      "source": [
        "from sklearn.model_selection import cross_val_score\n",
        "from sklearn.metrics import classification_report, confusion_matrix"
      ],
      "metadata": {
        "id": "f36SaWrUsgPV"
      },
      "execution_count": 68,
      "outputs": []
    },
    {
      "cell_type": "code",
      "source": [
        "from sklearn.model_selection import train_test_split\n",
        "X_train, X_test, y_train, y_test = train_test_split(X, y, test_size=0.2)"
      ],
      "metadata": {
        "id": "w4MHkNPGq8wW"
      },
      "execution_count": 69,
      "outputs": []
    },
    {
      "cell_type": "code",
      "source": [
        "from sklearn import tree\n",
        "from sklearn.tree import DecisionTreeClassifier\n",
        "from sklearn import pipeline"
      ],
      "metadata": {
        "id": "nvSM00gb6381"
      },
      "execution_count": 70,
      "outputs": []
    },
    {
      "cell_type": "markdown",
      "source": [
        "Decision Tree"
      ],
      "metadata": {
        "id": "CMTpiv22AfmO"
      }
    },
    {
      "cell_type": "code",
      "source": [
        "dt = DecisionTreeClassifier(random_state=0)\n",
        "pipe = pipeline.make_pipeline(dt)\n",
        "pipe.fit(X_train, y_train)\n",
        "print(\"Development set score:\", pipe.score(X_train, y_train))\n",
        "print(\"Test set score:\", pipe.score(X_test, y_test))"
      ],
      "metadata": {
        "colab": {
          "base_uri": "https://localhost:8080/"
        },
        "id": "6Anbqv9x7F0J",
        "outputId": "b3a7ffaa-9c6f-4b36-87d5-f6d7cdc3ce55"
      },
      "execution_count": null,
      "outputs": [
        {
          "output_type": "stream",
          "name": "stdout",
          "text": [
            "Development set score: 1.0\n",
            "Test set score: 0.7823343848580442\n"
          ]
        }
      ]
    },
    {
      "cell_type": "code",
      "source": [
        "import numpy as np \n",
        "path = dt.cost_complexity_pruning_path(X_train, y_train)\n",
        "alphas, imps = path.ccp_alphas, path.impurities\n",
        "\n",
        "train_acc = []\n",
        "test_acc = []\n",
        "for a in alphas:\n",
        "  dt = DecisionTreeClassifier(ccp_alpha=a)\n",
        "  pipe = pipeline.make_pipeline(dt)\n",
        "  pipe.fit(X_train, y_train)\n",
        "\n",
        "  train_acc.append(pipe.score(X_train, y_train))\n",
        "  test_acc.append(pipe.score(X_test, y_test))\n",
        "\n",
        "print(\"Best score:\", np.max(test_acc))\n",
        "prune_best_alpha = alphas[np.argmax(test_acc)]\n",
        "print(\"Best alpha:\", prune_best_alpha)"
      ],
      "metadata": {
        "colab": {
          "base_uri": "https://localhost:8080/"
        },
        "id": "kpqVlhvh8wF_",
        "outputId": "87cac8c4-2283-465b-cb6f-fd5df28bde51"
      },
      "execution_count": null,
      "outputs": [
        {
          "output_type": "stream",
          "name": "stdout",
          "text": [
            "Best score: 0.8012618296529969\n",
            "Best alpha: 0.0039173127814661765\n"
          ]
        }
      ]
    },
    {
      "cell_type": "code",
      "source": [
        "best_dt = DecisionTreeClassifier(ccp_alpha=prune_best_alpha)\n",
        "best_dt.fit(X_train, y_train)\n",
        "dt_predict = best_dt.predict(X_test)"
      ],
      "metadata": {
        "id": "MN58hgFXo8uC"
      },
      "execution_count": null,
      "outputs": []
    },
    {
      "cell_type": "code",
      "source": [
        "dt_cv_score = cross_val_score(best_dt, X, y, cv=10, scoring='roc_auc')"
      ],
      "metadata": {
        "id": "heN6b-0zpgHX"
      },
      "execution_count": null,
      "outputs": []
    },
    {
      "cell_type": "code",
      "source": [
        "dt_cv_score"
      ],
      "metadata": {
        "colab": {
          "base_uri": "https://localhost:8080/"
        },
        "id": "erphfhWppkO3",
        "outputId": "e863e596-ff7c-4487-8999-574fa82323e4"
      },
      "execution_count": null,
      "outputs": [
        {
          "output_type": "execute_result",
          "data": {
            "text/plain": [
              "array([0.7453211 , 0.64733945, 0.6212844 , 0.67825688, 0.79425926,\n",
              "       0.57592593, 0.65277778, 0.74518519, 0.84046296, 0.70592593])"
            ]
          },
          "metadata": {},
          "execution_count": 36
        }
      ]
    },
    {
      "cell_type": "code",
      "source": [
        "print(\"=== Confusion Matrix ===\")\n",
        "print(confusion_matrix(y_test, dt_predict))\n",
        "print('\\n')\n",
        "print(\"=== Classification Report ===\")\n",
        "print(classification_report(y_test, dt_predict))\n",
        "print('\\n')\n",
        "print(\"=== All AUC Scores ===\")\n",
        "print(dt_cv_score)\n",
        "print('\\n')\n",
        "print(\"=== Mean AUC Score ===\")\n",
        "print(\"Mean AUC Score - Decision Tree: \", dt_cv_score.mean())"
      ],
      "metadata": {
        "colab": {
          "base_uri": "https://localhost:8080/"
        },
        "id": "a5F3-N0BpnT5",
        "outputId": "d23b91ad-b08f-43ca-a909-0cccc4bdeea2"
      },
      "execution_count": null,
      "outputs": [
        {
          "output_type": "stream",
          "name": "stdout",
          "text": [
            "=== Confusion Matrix ===\n",
            "[[ 64  32]\n",
            " [ 33 188]]\n",
            "\n",
            "\n",
            "=== Classification Report ===\n",
            "              precision    recall  f1-score   support\n",
            "\n",
            "       False       0.66      0.67      0.66        96\n",
            "        True       0.85      0.85      0.85       221\n",
            "\n",
            "    accuracy                           0.79       317\n",
            "   macro avg       0.76      0.76      0.76       317\n",
            "weighted avg       0.80      0.79      0.80       317\n",
            "\n",
            "\n",
            "\n",
            "=== All AUC Scores ===\n",
            "[0.7453211  0.64733945 0.6212844  0.67825688 0.79425926 0.57592593\n",
            " 0.65277778 0.74518519 0.84046296 0.70592593]\n",
            "\n",
            "\n",
            "=== Mean AUC Score ===\n",
            "Mean AUC Score - Decision Tree:  0.7006738871899423\n"
          ]
        }
      ]
    },
    {
      "cell_type": "code",
      "source": [
        "from sklearn.metrics import plot_confusion_matrix\n",
        "from sklearn.metrics import plot_roc_curve\n",
        "\n",
        "fig, ax = plt.subplots()\n",
        "plot_confusion_matrix(best_dt, X_test, y_test, ax=ax, cmap=plt.cm.Blues)\n",
        "plt.show()\n",
        "\n",
        "fig, ax = plt.subplots()\n",
        "plot_roc_curve(best_dt, X_test, y_test, ax=ax) \n",
        "plt.plot([0, 1], [0, 1], color=\"navy\", linestyle=\"--\")\n",
        "plt.show()"
      ],
      "metadata": {
        "colab": {
          "base_uri": "https://localhost:8080/",
          "height": 631
        },
        "id": "YyGKKiv5tUEg",
        "outputId": "495eafa6-2bc3-4f1b-e210-604066926758"
      },
      "execution_count": null,
      "outputs": [
        {
          "output_type": "stream",
          "name": "stderr",
          "text": [
            "/usr/local/lib/python3.8/dist-packages/sklearn/utils/deprecation.py:87: FutureWarning: Function plot_confusion_matrix is deprecated; Function `plot_confusion_matrix` is deprecated in 1.0 and will be removed in 1.2. Use one of the class methods: ConfusionMatrixDisplay.from_predictions or ConfusionMatrixDisplay.from_estimator.\n",
            "  warnings.warn(msg, category=FutureWarning)\n"
          ]
        },
        {
          "output_type": "display_data",
          "data": {
            "text/plain": [
              "<Figure size 432x288 with 2 Axes>"
            ],
            "image/png": "[encoded data removed]"
          },
          "metadata": {
            "needs_background": "light"
          }
        },
        {
          "output_type": "stream",
          "name": "stderr",
          "text": [
            "/usr/local/lib/python3.8/dist-packages/sklearn/utils/deprecation.py:87: FutureWarning: Function plot_roc_curve is deprecated; Function :func:`plot_roc_curve` is deprecated in 1.0 and will be removed in 1.2. Use one of the class methods: :meth:`sklearn.metric.RocCurveDisplay.from_predictions` or :meth:`sklearn.metric.RocCurveDisplay.from_estimator`.\n",
            "  warnings.warn(msg, category=FutureWarning)\n"
          ]
        },
        {
          "output_type": "display_data",
          "data": {
            "text/plain": [
              "<Figure size 432x288 with 1 Axes>"
            ],
            "image/png": "[encoded data removed]"
          },
          "metadata": {
            "needs_background": "light"
          }
        }
      ]
    },
    {
      "cell_type": "markdown",
      "source": [
        "Random Forest"
      ],
      "metadata": {
        "id": "A05nLEfnApzR"
      }
    },
    {
      "cell_type": "code",
      "source": [
        "from sklearn import model_selection\n",
        "from sklearn.ensemble import RandomForestClassifier\n",
        "rfc = RandomForestClassifier()\n",
        "rfc.fit(X_train,y_train)\n",
        "# predictions\n",
        "rfc_predict = rfc.predict(X_test)"
      ],
      "metadata": {
        "id": "zxmtGk3L0dsa"
      },
      "execution_count": null,
      "outputs": []
    },
    {
      "cell_type": "code",
      "source": [
        "rfc_cv_score = cross_val_score(rfc, X, y, cv=10, scoring='roc_auc')"
      ],
      "metadata": {
        "id": "dgMr9sgw0woU"
      },
      "execution_count": null,
      "outputs": []
    },
    {
      "cell_type": "code",
      "source": [
        "rfc_cv_score"
      ],
      "metadata": {
        "colab": {
          "base_uri": "https://localhost:8080/"
        },
        "id": "L5vUduxc1DT5",
        "outputId": "c08e10d8-e41f-42ce-eecd-436b39b3f95b"
      },
      "execution_count": null,
      "outputs": [
        {
          "output_type": "execute_result",
          "data": {
            "text/plain": [
              "array([0.69587156, 0.84394495, 0.83623853, 0.79477064, 0.90768519,\n",
              "       0.60972222, 0.88851852, 0.96611111, 0.96648148, 0.89648148])"
            ]
          },
          "metadata": {},
          "execution_count": 31
        }
      ]
    },
    {
      "cell_type": "code",
      "source": [
        "print(\"=== Confusion Matrix ===\")\n",
        "print(confusion_matrix(y_test, rfc_predict))\n",
        "print('\\n')\n",
        "print(\"=== Classification Report ===\")\n",
        "print(classification_report(y_test, rfc_predict))\n",
        "print('\\n')\n",
        "print(\"=== All AUC Scores ===\")\n",
        "print(rfc_cv_score)\n",
        "print('\\n')\n",
        "print(\"=== Mean AUC Score ===\")\n",
        "print(\"Mean AUC Score - Random Forest: \", rfc_cv_score.mean())\n"
      ],
      "metadata": {
        "colab": {
          "base_uri": "https://localhost:8080/"
        },
        "id": "5W2TO_GV0t2n",
        "outputId": "7a1d66dd-c89d-4494-b80f-f56ef4668800"
      },
      "execution_count": null,
      "outputs": [
        {
          "output_type": "stream",
          "name": "stdout",
          "text": [
            "=== Confusion Matrix ===\n",
            "[[ 50  51]\n",
            " [ 21 195]]\n",
            "\n",
            "\n",
            "=== Classification Report ===\n",
            "              precision    recall  f1-score   support\n",
            "\n",
            "       False       0.70      0.50      0.58       101\n",
            "        True       0.79      0.90      0.84       216\n",
            "\n",
            "    accuracy                           0.77       317\n",
            "   macro avg       0.75      0.70      0.71       317\n",
            "weighted avg       0.76      0.77      0.76       317\n",
            "\n",
            "\n",
            "\n",
            "=== All AUC Scores ===\n",
            "[0.69587156 0.84394495 0.83623853 0.79477064 0.90768519 0.60972222\n",
            " 0.88851852 0.96611111 0.96648148 0.89648148]\n",
            "\n",
            "\n",
            "=== Mean AUC Score ===\n",
            "Mean AUC Score - Random Forest:  0.8405825688073394\n"
          ]
        }
      ]
    },
    {
      "cell_type": "code",
      "source": [
        "print(\"Test set score:\", rfc.score(X_test, y_test))"
      ],
      "metadata": {
        "colab": {
          "base_uri": "https://localhost:8080/"
        },
        "id": "EoLyALrVO-JK",
        "outputId": "75cd8e50-7ad9-4e1b-871f-3f32c43b72c4"
      },
      "execution_count": null,
      "outputs": [
        {
          "output_type": "stream",
          "name": "stdout",
          "text": [
            "Test set score: 0.7728706624605678\n"
          ]
        }
      ]
    },
    {
      "cell_type": "code",
      "source": [
        "from sklearn.metrics import plot_confusion_matrix\n",
        "from sklearn.metrics import plot_roc_curve\n",
        "\n",
        "fig, ax = plt.subplots()\n",
        "plot_confusion_matrix(rfc, X_test, y_test, ax=ax, cmap=plt.cm.Blues)\n",
        "plt.show()\n",
        "\n",
        "fig, ax = plt.subplots()\n",
        "plot_roc_curve(rfc, X_test, y_test, ax=ax) \n",
        "plt.plot([0, 1], [0, 1], color=\"navy\", linestyle=\"--\")\n",
        "plt.show()"
      ],
      "metadata": {
        "colab": {
          "base_uri": "https://localhost:8080/",
          "height": 629
        },
        "id": "-52jzwaOc19a",
        "outputId": "365c0681-b333-4261-bb78-b35389b91f10"
      },
      "execution_count": null,
      "outputs": [
        {
          "output_type": "stream",
          "name": "stderr",
          "text": [
            "/usr/local/lib/python3.8/dist-packages/sklearn/utils/deprecation.py:87: FutureWarning: Function plot_confusion_matrix is deprecated; Function `plot_confusion_matrix` is deprecated in 1.0 and will be removed in 1.2. Use one of the class methods: ConfusionMatrixDisplay.from_predictions or ConfusionMatrixDisplay.from_estimator.\n",
            "  warnings.warn(msg, category=FutureWarning)\n"
          ]
        },
        {
          "output_type": "display_data",
          "data": {
            "text/plain": [
              "<Figure size 432x288 with 2 Axes>"
            ],
            "image/png": "[encoded data removed]"
          },
          "metadata": {
            "needs_background": "light"
          }
        },
        {
          "output_type": "stream",
          "name": "stderr",
          "text": [
            "/usr/local/lib/python3.8/dist-packages/sklearn/utils/deprecation.py:87: FutureWarning: Function plot_roc_curve is deprecated; Function :func:`plot_roc_curve` is deprecated in 1.0 and will be removed in 1.2. Use one of the class methods: :meth:`sklearn.metric.RocCurveDisplay.from_predictions` or :meth:`sklearn.metric.RocCurveDisplay.from_estimator`.\n",
            "  warnings.warn(msg, category=FutureWarning)\n"
          ]
        },
        {
          "output_type": "display_data",
          "data": {
            "text/plain": [
              "<Figure size 432x288 with 1 Axes>"
            ],
            "image/png": "[encoded data removed]"
          },
          "metadata": {
            "needs_background": "light"
          }
        }
      ]
    },
    {
      "cell_type": "code",
      "source": [
        "y.value_counts(normalize = True)"
      ],
      "metadata": {
        "colab": {
          "base_uri": "https://localhost:8080/"
        },
        "id": "NjYYTtVN0wFc",
        "outputId": "9162ef38-9c49-479a-f9a8-6ee7cd51c7ac"
      },
      "execution_count": null,
      "outputs": [
        {
          "output_type": "execute_result",
          "data": {
            "text/plain": [
              "True     0.684343\n",
              "False    0.315657\n",
              "Name: target, dtype: float64"
            ]
          },
          "metadata": {},
          "execution_count": 35
        }
      ]
    },
    {
      "cell_type": "markdown",
      "source": [
        "SVM"
      ],
      "metadata": {
        "id": "K-j3Ed7aA196"
      }
    },
    {
      "cell_type": "code",
      "source": [
        "from sklearn import model_selection\n",
        "from sklearn import svm\n",
        "from sklearn.model_selection import cross_val_score\n",
        "from sklearn.metrics import classification_report, confusion_matrix\n",
        "from sklearn.metrics import plot_confusion_matrix\n",
        "from sklearn.metrics import plot_roc_curve\n",
        "\n",
        "kernel_functions = ['linear', 'sigmoid', 'rbf', 'poly']\n",
        "for kernel_function in kernel_functions:\n",
        "  clf = svm.SVC(kernel=kernel_function)\n",
        "  clf.fit(X_train,y_train)\n",
        "  # predictions\n",
        "  clf_predict = clf.predict(X_test)\n",
        "  clf_cv_score = cross_val_score(clf, X, y, cv=10, scoring='accuracy')\n",
        "  print(kernel_function, clf_cv_score)\n",
        "  print(\"=== Confusion Matrix ===\")\n",
        "  print(confusion_matrix(y_test, clf_predict))\n",
        "  print('\\n')\n",
        "  print(\"=== Classification Report ===\")\n",
        "  print(classification_report(y_test, clf_predict))\n",
        "  print('\\n')\n",
        "  print(\"=== All AUC Scores ===\")\n",
        "  print(clf_cv_score)\n",
        "  print('\\n')\n",
        "  print(\"=== Mean AUC Score ===\")\n",
        "  print(\"Mean AUC Score - SVM: \", clf_cv_score.mean())\n",
        "\n"
      ],
      "metadata": {
        "colab": {
          "base_uri": "https://localhost:8080/",
          "height": 1000
        },
        "id": "Y0ioKGnLAveP",
        "outputId": "8bdb4a9e-649c-430d-a4cc-e0ff9c59f695"
      },
      "execution_count": null,
      "outputs": [
        {
          "output_type": "stream",
          "name": "stdout",
          "text": [
            "linear [0.69811321 0.7672956  0.77358491 0.73584906 0.83544304 0.64556962\n",
            " 0.83544304 0.82278481 0.80379747 0.56329114]\n",
            "=== Confusion Matrix ===\n",
            "[[ 61  40]\n",
            " [ 55 161]]\n",
            "\n",
            "\n",
            "=== Classification Report ===\n",
            "              precision    recall  f1-score   support\n",
            "\n",
            "       False       0.53      0.60      0.56       101\n",
            "        True       0.80      0.75      0.77       216\n",
            "\n",
            "    accuracy                           0.70       317\n",
            "   macro avg       0.66      0.67      0.67       317\n",
            "weighted avg       0.71      0.70      0.71       317\n",
            "\n",
            "\n",
            "\n",
            "=== All AUC Scores ===\n",
            "[0.69811321 0.7672956  0.77358491 0.73584906 0.83544304 0.64556962\n",
            " 0.83544304 0.82278481 0.80379747 0.56329114]\n",
            "\n",
            "\n",
            "=== Mean AUC Score ===\n",
            "Mean AUC Score - SVM:  0.7481171881219648\n"
          ]
        },
        {
          "output_type": "stream",
          "name": "stderr",
          "text": [
            "/usr/local/lib/python3.8/dist-packages/sklearn/utils/deprecation.py:87: FutureWarning: Function plot_confusion_matrix is deprecated; Function `plot_confusion_matrix` is deprecated in 1.0 and will be removed in 1.2. Use one of the class methods: ConfusionMatrixDisplay.from_predictions or ConfusionMatrixDisplay.from_estimator.\n",
            "  warnings.warn(msg, category=FutureWarning)\n"
          ]
        },
        {
          "output_type": "display_data",
          "data": {
            "text/plain": [
              "<Figure size 432x288 with 2 Axes>"
            ],
            "image/png": "[encoded data removed]"
          },
          "metadata": {
            "needs_background": "light"
          }
        },
        {
          "output_type": "stream",
          "name": "stderr",
          "text": [
            "/usr/local/lib/python3.8/dist-packages/sklearn/utils/deprecation.py:87: FutureWarning: Function plot_roc_curve is deprecated; Function :func:`plot_roc_curve` is deprecated in 1.0 and will be removed in 1.2. Use one of the class methods: :meth:`sklearn.metric.RocCurveDisplay.from_predictions` or :meth:`sklearn.metric.RocCurveDisplay.from_estimator`.\n",
            "  warnings.warn(msg, category=FutureWarning)\n"
          ]
        },
        {
          "output_type": "display_data",
          "data": {
            "text/plain": [
              "<Figure size 432x288 with 1 Axes>"
            ],
            "image/png": "[encoded data removed]"
          },
          "metadata": {
            "needs_background": "light"
          }
        }
      ]
    },
    {
      "cell_type": "code",
      "source": [
        "  #Returning plots for best kernel function\n",
        "  \n",
        "  clf = svm.SVC(kernel='linear')\n",
        "  clf.fit(X_train,y_train)\n",
        "  # predictions\n",
        "  clf_predict = clf.predict(X_test)\n",
        "  clf_cv_score = cross_val_score(clf, X, y, cv=10, scoring='accuracy')\n",
        "  print(kernel_function, clf_cv_score)\n",
        "  print(\"=== Confusion Matrix ===\")\n",
        "  print(confusion_matrix(y_test, clf_predict))\n",
        "  print('\\n')\n",
        "  print(\"=== Classification Report ===\")\n",
        "  print(classification_report(y_test, clf_predict))\n",
        "  print('\\n')\n",
        "  print(\"=== All AUC Scores ===\")\n",
        "  print(clf_cv_score)\n",
        "  print('\\n')\n",
        "  print(\"=== Mean AUC Score ===\")\n",
        "  print(\"Mean AUC Score - SVM: \", clf_cv_score.mean())\n",
        "\n",
        "  fig, ax = plt.subplots()\n",
        "  plot_confusion_matrix(clf, X_test, y_test, ax=ax, cmap=plt.cm.Blues)\n",
        "  plt.show()\n",
        "\n",
        "  fig, ax = plt.subplots()\n",
        "  plot_roc_curve(clf, X_test, y_test, ax=ax) \n",
        "  plt.plot([0, 1], [0, 1], color=\"navy\", linestyle=\"--\")\n",
        "  plt.show()"
      ],
      "metadata": {
        "id": "1aiEjTsihtDp"
      },
      "execution_count": null,
      "outputs": []
    },
    {
      "cell_type": "markdown",
      "source": [
        "K-Nearest Neighbors"
      ],
      "metadata": {
        "id": "HD_hBTmoA4V6"
      }
    },
    {
      "cell_type": "code",
      "source": [
        "from sklearn.neighbors import KNeighborsClassifier\n",
        "\n",
        "model = KNeighborsClassifier(n_neighbors=20)\n",
        "\n",
        "# Train the model using the training sets\n",
        "model.fit(X_train,y_train)\n",
        "\n",
        "#Predict Output\n",
        "predicted= model.predict(X_test) # 0:Overcast, 2:Mild\n",
        "knn_cv_score = cross_val_score(model, X, y, cv=10, scoring='roc_auc')"
      ],
      "metadata": {
        "id": "u3d6zFNuFx71"
      },
      "execution_count": null,
      "outputs": []
    },
    {
      "cell_type": "code",
      "source": [
        "knn_cv_score "
      ],
      "metadata": {
        "colab": {
          "base_uri": "https://localhost:8080/"
        },
        "id": "tlOVSoFWF-HO",
        "outputId": "cb3b381a-3121-4910-ea80-cfad812e113c"
      },
      "execution_count": null,
      "outputs": [
        {
          "output_type": "execute_result",
          "data": {
            "text/plain": [
              "array([0.7933945 , 0.79192661, 0.72229358, 0.68045872, 0.83425926,\n",
              "       0.56277778, 0.74898148, 0.725     , 0.84925926, 0.69222222])"
            ]
          },
          "metadata": {},
          "execution_count": 38
        }
      ]
    },
    {
      "cell_type": "code",
      "source": [
        "print(\"=== Confusion Matrix ===\")\n",
        "print(confusion_matrix(y_test, predicted))\n",
        "print('\\n')\n",
        "print(\"=== Classification Report ===\")\n",
        "print(classification_report(y_test, predicted))\n",
        "print('\\n')\n",
        "print(\"=== All AUC Scores ===\")\n",
        "print(knn_cv_score)\n",
        "print('\\n')\n",
        "print(\"=== Mean AUC Score ===\")\n",
        "print(\"Mean AUC Score - K Neighbors: \", knn_cv_score.mean())"
      ],
      "metadata": {
        "colab": {
          "base_uri": "https://localhost:8080/"
        },
        "id": "OtbKdL9pGCJs",
        "outputId": "c1bd86a9-6cc6-4fdc-800b-35631f03f7db"
      },
      "execution_count": null,
      "outputs": [
        {
          "output_type": "stream",
          "name": "stdout",
          "text": [
            "=== Confusion Matrix ===\n",
            "[[ 34  67]\n",
            " [ 37 179]]\n",
            "\n",
            "\n",
            "=== Classification Report ===\n",
            "              precision    recall  f1-score   support\n",
            "\n",
            "       False       0.48      0.34      0.40       101\n",
            "        True       0.73      0.83      0.77       216\n",
            "\n",
            "    accuracy                           0.67       317\n",
            "   macro avg       0.60      0.58      0.59       317\n",
            "weighted avg       0.65      0.67      0.65       317\n",
            "\n",
            "\n",
            "\n",
            "=== All AUC Scores ===\n",
            "[0.7933945  0.79192661 0.72229358 0.68045872 0.83425926 0.56277778\n",
            " 0.74898148 0.725      0.84925926 0.69222222]\n",
            "\n",
            "\n",
            "=== Mean AUC Score ===\n",
            "Mean AUC Score - K Neighbors:  0.7400573394495413\n"
          ]
        }
      ]
    },
    {
      "cell_type": "code",
      "source": [
        "fig, ax = plt.subplots()\n",
        "plot_confusion_matrix(model, X_test, y_test, ax=ax, cmap=plt.cm.Blues)\n",
        "plt.show()\n",
        "\n",
        "fig, ax = plt.subplots()\n",
        "plot_roc_curve(model, X_test, y_test, ax=ax) \n",
        "plt.plot([0, 1], [0, 1], color=\"navy\", linestyle=\"--\")\n",
        "plt.show()"
      ],
      "metadata": {
        "colab": {
          "base_uri": "https://localhost:8080/",
          "height": 629
        },
        "id": "IJUk106ceJgC",
        "outputId": "263545cf-8911-4d86-b81b-ee9d3f375a20"
      },
      "execution_count": null,
      "outputs": [
        {
          "output_type": "stream",
          "name": "stderr",
          "text": [
            "/usr/local/lib/python3.8/dist-packages/sklearn/utils/deprecation.py:87: FutureWarning: Function plot_confusion_matrix is deprecated; Function `plot_confusion_matrix` is deprecated in 1.0 and will be removed in 1.2. Use one of the class methods: ConfusionMatrixDisplay.from_predictions or ConfusionMatrixDisplay.from_estimator.\n",
            "  warnings.warn(msg, category=FutureWarning)\n"
          ]
        },
        {
          "output_type": "display_data",
          "data": {
            "text/plain": [
              "<Figure size 432x288 with 2 Axes>"
            ],
            "image/png": "[encoded data removed]"
          },
          "metadata": {
            "needs_background": "light"
          }
        },
        {
          "output_type": "stream",
          "name": "stderr",
          "text": [
            "/usr/local/lib/python3.8/dist-packages/sklearn/utils/deprecation.py:87: FutureWarning: Function plot_roc_curve is deprecated; Function :func:`plot_roc_curve` is deprecated in 1.0 and will be removed in 1.2. Use one of the class methods: :meth:`sklearn.metric.RocCurveDisplay.from_predictions` or :meth:`sklearn.metric.RocCurveDisplay.from_estimator`.\n",
            "  warnings.warn(msg, category=FutureWarning)\n"
          ]
        },
        {
          "output_type": "display_data",
          "data": {
            "text/plain": [
              "<Figure size 432x288 with 1 Axes>"
            ],
            "image/png": "[encoded data removed]"
          },
          "metadata": {
            "needs_background": "light"
          }
        }
      ]
    },
    {
      "cell_type": "markdown",
      "source": [
        "Sequential Neural Network"
      ],
      "metadata": {
        "id": "2SbPhR6_A8qq"
      }
    },
    {
      "cell_type": "code",
      "source": [
        "from keras import Sequential\n",
        "from keras.layers import Dense\n",
        "from keras.optimizers import Adam\n",
        "from keras.layers import AveragePooling2D, Dropout\n",
        "import keras.optimizers\n",
        "\n",
        "model = Sequential()\n",
        "model.add(Dense(512, activation='ELU', input_dim=2196))\n",
        "model.add(Dense(512, activation='ELU'))\n",
        "model.add(Dense(1, activation='sigmoid'))\n",
        "model.compile(optimizer=keras.optimizers.Adam(lr = 0.0001), loss='binary_crossentropy', metrics=['accuracy'])"
      ],
      "metadata": {
        "id": "hBDoxm1yJ8Eg",
        "colab": {
          "base_uri": "https://localhost:8080/"
        },
        "outputId": "6039ba9c-e41b-4ef2-afec-cc1a4bba5574"
      },
      "execution_count": 71,
      "outputs": [
        {
          "output_type": "stream",
          "name": "stderr",
          "text": [
            "/usr/local/lib/python3.8/dist-packages/keras/optimizers/optimizer_v2/adam.py:110: UserWarning: The `lr` argument is deprecated, use `learning_rate` instead.\n",
            "  super(Adam, self).__init__(name, **kwargs)\n"
          ]
        }
      ]
    },
    {
      "cell_type": "code",
      "source": [
        "history_callback = model.fit(X_train, y_train, epochs=100, validation_split = 0.2)\n",
        "#, validation_data = (X_test, y_test)"
      ],
      "metadata": {
        "colab": {
          "base_uri": "https://localhost:8080/"
        },
        "id": "axSPEqPMKbEe",
        "outputId": "5db42f6f-76cf-4f45-a1e0-7c42f58a30c7"
      },
      "execution_count": 72,
      "outputs": [
        {
          "output_type": "stream",
          "name": "stdout",
          "text": [
            "Epoch 1/100\n",
            "32/32 [==============================] - 2s 23ms/step - loss: 4935.0264 - accuracy: 0.5785 - val_loss: 1014.0522 - val_accuracy: 0.4528\n",
            "Epoch 2/100\n",
            "32/32 [==============================] - 1s 16ms/step - loss: 1093.5701 - accuracy: 0.6111 - val_loss: 2340.5886 - val_accuracy: 0.6063\n",
            "Epoch 3/100\n",
            "32/32 [==============================] - 0s 15ms/step - loss: 932.9833 - accuracy: 0.6160 - val_loss: 1719.4285 - val_accuracy: 0.6181\n",
            "Epoch 4/100\n",
            "32/32 [==============================] - 1s 17ms/step - loss: 641.4028 - accuracy: 0.6407 - val_loss: 783.3248 - val_accuracy: 0.6102\n",
            "Epoch 5/100\n",
            "32/32 [==============================] - 1s 16ms/step - loss: 658.2103 - accuracy: 0.6476 - val_loss: 1560.4639 - val_accuracy: 0.6102\n",
            "Epoch 6/100\n",
            "32/32 [==============================] - 0s 15ms/step - loss: 2074.8191 - accuracy: 0.6071 - val_loss: 1370.8910 - val_accuracy: 0.6142\n",
            "Epoch 7/100\n",
            "32/32 [==============================] - 0s 15ms/step - loss: 878.9467 - accuracy: 0.6545 - val_loss: 386.9478 - val_accuracy: 0.6378\n",
            "Epoch 8/100\n",
            "32/32 [==============================] - 1s 16ms/step - loss: 628.1129 - accuracy: 0.6624 - val_loss: 206.7127 - val_accuracy: 0.6850\n",
            "Epoch 9/100\n",
            "32/32 [==============================] - 1s 17ms/step - loss: 328.8457 - accuracy: 0.6742 - val_loss: 780.7580 - val_accuracy: 0.6102\n",
            "Epoch 10/100\n",
            "32/32 [==============================] - 1s 16ms/step - loss: 695.1024 - accuracy: 0.6338 - val_loss: 878.1950 - val_accuracy: 0.6024\n",
            "Epoch 11/100\n",
            "32/32 [==============================] - 0s 15ms/step - loss: 933.5635 - accuracy: 0.6496 - val_loss: 849.3340 - val_accuracy: 0.5394\n",
            "Epoch 12/100\n",
            "32/32 [==============================] - 1s 16ms/step - loss: 651.5073 - accuracy: 0.6397 - val_loss: 2517.6472 - val_accuracy: 0.6102\n",
            "Epoch 13/100\n",
            "32/32 [==============================] - 1s 16ms/step - loss: 801.8416 - accuracy: 0.6703 - val_loss: 1036.5891 - val_accuracy: 0.6063\n",
            "Epoch 14/100\n",
            "32/32 [==============================] - 1s 17ms/step - loss: 981.0392 - accuracy: 0.6219 - val_loss: 530.8737 - val_accuracy: 0.6142\n",
            "Epoch 15/100\n",
            "32/32 [==============================] - 0s 15ms/step - loss: 354.6078 - accuracy: 0.7068 - val_loss: 602.7641 - val_accuracy: 0.6220\n",
            "Epoch 16/100\n",
            "32/32 [==============================] - 0s 15ms/step - loss: 590.7221 - accuracy: 0.6654 - val_loss: 484.4383 - val_accuracy: 0.6142\n",
            "Epoch 17/100\n",
            "32/32 [==============================] - 1s 16ms/step - loss: 662.1914 - accuracy: 0.6772 - val_loss: 530.7814 - val_accuracy: 0.5984\n",
            "Epoch 18/100\n",
            "32/32 [==============================] - 1s 16ms/step - loss: 652.7507 - accuracy: 0.6900 - val_loss: 1065.3400 - val_accuracy: 0.6063\n",
            "Epoch 19/100\n",
            "32/32 [==============================] - 0s 16ms/step - loss: 565.5236 - accuracy: 0.6960 - val_loss: 590.1470 - val_accuracy: 0.5748\n",
            "Epoch 20/100\n",
            "32/32 [==============================] - 0s 15ms/step - loss: 562.6606 - accuracy: 0.7009 - val_loss: 617.2344 - val_accuracy: 0.5748\n",
            "Epoch 21/100\n",
            "32/32 [==============================] - 0s 15ms/step - loss: 491.5079 - accuracy: 0.6890 - val_loss: 336.1550 - val_accuracy: 0.6929\n",
            "Epoch 22/100\n",
            "32/32 [==============================] - 1s 16ms/step - loss: 310.6694 - accuracy: 0.7354 - val_loss: 1584.9304 - val_accuracy: 0.6102\n",
            "Epoch 23/100\n",
            "32/32 [==============================] - 1s 16ms/step - loss: 434.5583 - accuracy: 0.7187 - val_loss: 349.4992 - val_accuracy: 0.6299\n",
            "Epoch 24/100\n",
            "32/32 [==============================] - 0s 15ms/step - loss: 324.1754 - accuracy: 0.7127 - val_loss: 185.5871 - val_accuracy: 0.7126\n",
            "Epoch 25/100\n",
            "32/32 [==============================] - 0s 15ms/step - loss: 568.9627 - accuracy: 0.6890 - val_loss: 644.4382 - val_accuracy: 0.6181\n",
            "Epoch 26/100\n",
            "32/32 [==============================] - 1s 17ms/step - loss: 651.3948 - accuracy: 0.6663 - val_loss: 2000.9159 - val_accuracy: 0.6102\n",
            "Epoch 27/100\n",
            "32/32 [==============================] - 1s 16ms/step - loss: 381.5235 - accuracy: 0.7354 - val_loss: 1374.4725 - val_accuracy: 0.6102\n",
            "Epoch 28/100\n",
            "32/32 [==============================] - 0s 16ms/step - loss: 956.1495 - accuracy: 0.6407 - val_loss: 2559.1355 - val_accuracy: 0.6063\n",
            "Epoch 29/100\n",
            "32/32 [==============================] - 0s 15ms/step - loss: 415.7473 - accuracy: 0.7423 - val_loss: 468.6566 - val_accuracy: 0.6220\n",
            "Epoch 30/100\n",
            "32/32 [==============================] - 0s 15ms/step - loss: 717.3043 - accuracy: 0.6920 - val_loss: 1846.2230 - val_accuracy: 0.4646\n",
            "Epoch 31/100\n",
            "32/32 [==============================] - 1s 17ms/step - loss: 1526.9441 - accuracy: 0.6407 - val_loss: 497.9626 - val_accuracy: 0.6535\n",
            "Epoch 32/100\n",
            "32/32 [==============================] - 1s 17ms/step - loss: 441.8227 - accuracy: 0.7177 - val_loss: 380.6388 - val_accuracy: 0.6890\n",
            "Epoch 33/100\n",
            "32/32 [==============================] - 1s 16ms/step - loss: 306.2847 - accuracy: 0.7433 - val_loss: 569.8316 - val_accuracy: 0.6260\n",
            "Epoch 34/100\n",
            "32/32 [==============================] - 0s 15ms/step - loss: 147.8343 - accuracy: 0.8085 - val_loss: 257.7555 - val_accuracy: 0.6732\n",
            "Epoch 35/100\n",
            "32/32 [==============================] - 1s 16ms/step - loss: 170.9650 - accuracy: 0.7858 - val_loss: 862.0923 - val_accuracy: 0.5276\n",
            "Epoch 36/100\n",
            "32/32 [==============================] - 1s 16ms/step - loss: 535.4940 - accuracy: 0.6930 - val_loss: 886.9209 - val_accuracy: 0.6102\n",
            "Epoch 37/100\n",
            "32/32 [==============================] - 1s 16ms/step - loss: 500.9741 - accuracy: 0.7137 - val_loss: 297.5794 - val_accuracy: 0.7323\n",
            "Epoch 38/100\n",
            "32/32 [==============================] - 0s 15ms/step - loss: 190.6265 - accuracy: 0.7710 - val_loss: 283.5835 - val_accuracy: 0.6772\n",
            "Epoch 39/100\n",
            "32/32 [==============================] - 1s 16ms/step - loss: 551.1158 - accuracy: 0.7127 - val_loss: 301.8735 - val_accuracy: 0.6969\n",
            "Epoch 40/100\n",
            "32/32 [==============================] - 1s 16ms/step - loss: 312.1031 - accuracy: 0.7631 - val_loss: 1300.6611 - val_accuracy: 0.6102\n",
            "Epoch 41/100\n",
            "32/32 [==============================] - 0s 15ms/step - loss: 625.2081 - accuracy: 0.6969 - val_loss: 299.6395 - val_accuracy: 0.7244\n",
            "Epoch 42/100\n",
            "32/32 [==============================] - 0s 16ms/step - loss: 174.7755 - accuracy: 0.8065 - val_loss: 286.4958 - val_accuracy: 0.7126\n",
            "Epoch 43/100\n",
            "32/32 [==============================] - 1s 16ms/step - loss: 800.4368 - accuracy: 0.6950 - val_loss: 1164.3273 - val_accuracy: 0.5394\n",
            "Epoch 44/100\n",
            "32/32 [==============================] - 1s 16ms/step - loss: 595.8924 - accuracy: 0.7157 - val_loss: 1531.3536 - val_accuracy: 0.6063\n",
            "Epoch 45/100\n",
            "32/32 [==============================] - 1s 16ms/step - loss: 485.5362 - accuracy: 0.7522 - val_loss: 363.1251 - val_accuracy: 0.6496\n",
            "Epoch 46/100\n",
            "32/32 [==============================] - 1s 16ms/step - loss: 114.9607 - accuracy: 0.8332 - val_loss: 270.0990 - val_accuracy: 0.7283\n",
            "Epoch 47/100\n",
            "32/32 [==============================] - 1s 29ms/step - loss: 571.9619 - accuracy: 0.7108 - val_loss: 816.3889 - val_accuracy: 0.5787\n",
            "Epoch 48/100\n",
            "32/32 [==============================] - 1s 23ms/step - loss: 258.1289 - accuracy: 0.7759 - val_loss: 558.5963 - val_accuracy: 0.6299\n",
            "Epoch 49/100\n",
            "32/32 [==============================] - 1s 36ms/step - loss: 578.0502 - accuracy: 0.7078 - val_loss: 1946.0405 - val_accuracy: 0.6102\n",
            "Epoch 50/100\n",
            "32/32 [==============================] - 1s 16ms/step - loss: 555.6873 - accuracy: 0.6890 - val_loss: 377.6333 - val_accuracy: 0.6496\n",
            "Epoch 51/100\n",
            "32/32 [==============================] - 1s 16ms/step - loss: 362.3087 - accuracy: 0.7404 - val_loss: 588.9100 - val_accuracy: 0.6496\n",
            "Epoch 52/100\n",
            "32/32 [==============================] - 1s 17ms/step - loss: 260.9976 - accuracy: 0.7828 - val_loss: 444.9357 - val_accuracy: 0.7047\n",
            "Epoch 53/100\n",
            "32/32 [==============================] - 0s 15ms/step - loss: 431.0613 - accuracy: 0.7433 - val_loss: 541.5524 - val_accuracy: 0.6260\n",
            "Epoch 54/100\n",
            "32/32 [==============================] - 1s 17ms/step - loss: 284.9805 - accuracy: 0.7720 - val_loss: 504.3402 - val_accuracy: 0.6339\n",
            "Epoch 55/100\n",
            "32/32 [==============================] - 1s 17ms/step - loss: 469.3176 - accuracy: 0.7177 - val_loss: 1260.6235 - val_accuracy: 0.5315\n",
            "Epoch 56/100\n",
            "32/32 [==============================] - 1s 17ms/step - loss: 425.5638 - accuracy: 0.7502 - val_loss: 458.0589 - val_accuracy: 0.6457\n",
            "Epoch 57/100\n",
            "32/32 [==============================] - 0s 15ms/step - loss: 963.8089 - accuracy: 0.6821 - val_loss: 675.5966 - val_accuracy: 0.6220\n",
            "Epoch 58/100\n",
            "32/32 [==============================] - 1s 17ms/step - loss: 642.1019 - accuracy: 0.7177 - val_loss: 2025.7458 - val_accuracy: 0.6063\n",
            "Epoch 59/100\n",
            "32/32 [==============================] - 1s 16ms/step - loss: 415.1169 - accuracy: 0.7611 - val_loss: 381.0296 - val_accuracy: 0.7480\n",
            "Epoch 60/100\n",
            "32/32 [==============================] - 1s 17ms/step - loss: 196.6516 - accuracy: 0.7996 - val_loss: 344.2033 - val_accuracy: 0.7362\n",
            "Epoch 61/100\n",
            "32/32 [==============================] - 0s 16ms/step - loss: 198.9103 - accuracy: 0.7986 - val_loss: 424.2133 - val_accuracy: 0.7047\n",
            "Epoch 62/100\n",
            "32/32 [==============================] - 1s 16ms/step - loss: 486.0775 - accuracy: 0.7542 - val_loss: 557.3962 - val_accuracy: 0.6850\n",
            "Epoch 63/100\n",
            "32/32 [==============================] - 1s 17ms/step - loss: 450.9057 - accuracy: 0.7295 - val_loss: 365.4283 - val_accuracy: 0.7559\n",
            "Epoch 64/100\n",
            "32/32 [==============================] - 1s 17ms/step - loss: 353.0443 - accuracy: 0.7562 - val_loss: 649.5515 - val_accuracy: 0.6220\n",
            "Epoch 65/100\n",
            "32/32 [==============================] - 0s 15ms/step - loss: 164.7415 - accuracy: 0.8154 - val_loss: 405.2303 - val_accuracy: 0.6496\n",
            "Epoch 66/100\n",
            "32/32 [==============================] - 0s 16ms/step - loss: 675.2704 - accuracy: 0.7206 - val_loss: 486.7736 - val_accuracy: 0.6969\n",
            "Epoch 67/100\n",
            "32/32 [==============================] - 1s 16ms/step - loss: 135.3820 - accuracy: 0.8381 - val_loss: 488.3076 - val_accuracy: 0.6969\n",
            "Epoch 68/100\n",
            "32/32 [==============================] - 1s 17ms/step - loss: 468.7665 - accuracy: 0.7305 - val_loss: 1515.2336 - val_accuracy: 0.5315\n",
            "Epoch 69/100\n",
            "32/32 [==============================] - 1s 16ms/step - loss: 539.0615 - accuracy: 0.7167 - val_loss: 1628.9919 - val_accuracy: 0.6063\n",
            "Epoch 70/100\n",
            "32/32 [==============================] - 1s 16ms/step - loss: 566.6087 - accuracy: 0.7216 - val_loss: 413.3128 - val_accuracy: 0.7323\n",
            "Epoch 71/100\n",
            "32/32 [==============================] - 0s 15ms/step - loss: 246.7636 - accuracy: 0.7799 - val_loss: 799.3126 - val_accuracy: 0.6260\n",
            "Epoch 72/100\n",
            "32/32 [==============================] - 1s 23ms/step - loss: 625.8365 - accuracy: 0.7285 - val_loss: 394.4367 - val_accuracy: 0.7402\n",
            "Epoch 73/100\n",
            "32/32 [==============================] - 1s 34ms/step - loss: 600.8710 - accuracy: 0.7295 - val_loss: 406.9754 - val_accuracy: 0.7244\n",
            "Epoch 74/100\n",
            "32/32 [==============================] - 1s 28ms/step - loss: 203.0822 - accuracy: 0.8154 - val_loss: 668.9011 - val_accuracy: 0.6417\n",
            "Epoch 75/100\n",
            "32/32 [==============================] - 1s 31ms/step - loss: 285.3506 - accuracy: 0.7828 - val_loss: 401.6169 - val_accuracy: 0.7244\n",
            "Epoch 76/100\n",
            "32/32 [==============================] - 1s 27ms/step - loss: 123.8995 - accuracy: 0.8549 - val_loss: 517.1118 - val_accuracy: 0.7047\n",
            "Epoch 77/100\n",
            "32/32 [==============================] - 1s 28ms/step - loss: 437.2992 - accuracy: 0.7433 - val_loss: 600.8248 - val_accuracy: 0.6890\n",
            "Epoch 78/100\n",
            "32/32 [==============================] - 1s 16ms/step - loss: 332.2628 - accuracy: 0.7799 - val_loss: 887.0750 - val_accuracy: 0.6260\n",
            "Epoch 79/100\n",
            "32/32 [==============================] - 0s 15ms/step - loss: 215.7959 - accuracy: 0.8045 - val_loss: 816.8436 - val_accuracy: 0.6260\n",
            "Epoch 80/100\n",
            "32/32 [==============================] - 1s 16ms/step - loss: 430.6451 - accuracy: 0.7532 - val_loss: 554.6714 - val_accuracy: 0.6614\n",
            "Epoch 81/100\n",
            "32/32 [==============================] - 1s 16ms/step - loss: 293.5758 - accuracy: 0.8055 - val_loss: 1658.7120 - val_accuracy: 0.6063\n",
            "Epoch 82/100\n",
            "32/32 [==============================] - 1s 16ms/step - loss: 442.1758 - accuracy: 0.7799 - val_loss: 501.8659 - val_accuracy: 0.7362\n",
            "Epoch 83/100\n",
            "32/32 [==============================] - 1s 16ms/step - loss: 249.2514 - accuracy: 0.7986 - val_loss: 553.6872 - val_accuracy: 0.6575\n",
            "Epoch 84/100\n",
            "32/32 [==============================] - 1s 16ms/step - loss: 435.3487 - accuracy: 0.7364 - val_loss: 774.6360 - val_accuracy: 0.6417\n",
            "Epoch 85/100\n",
            "32/32 [==============================] - 1s 16ms/step - loss: 237.3901 - accuracy: 0.7996 - val_loss: 523.2642 - val_accuracy: 0.6811\n",
            "Epoch 86/100\n",
            "32/32 [==============================] - 1s 16ms/step - loss: 331.5926 - accuracy: 0.7878 - val_loss: 431.1624 - val_accuracy: 0.7165\n",
            "Epoch 87/100\n",
            "32/32 [==============================] - 1s 16ms/step - loss: 118.0069 - accuracy: 0.8539 - val_loss: 881.8701 - val_accuracy: 0.6260\n",
            "Epoch 88/100\n",
            "32/32 [==============================] - 1s 16ms/step - loss: 328.8949 - accuracy: 0.7641 - val_loss: 609.5970 - val_accuracy: 0.6811\n",
            "Epoch 89/100\n",
            "32/32 [==============================] - 1s 17ms/step - loss: 231.5134 - accuracy: 0.8036 - val_loss: 453.6032 - val_accuracy: 0.7559\n",
            "Epoch 90/100\n",
            "32/32 [==============================] - 1s 17ms/step - loss: 444.8492 - accuracy: 0.7779 - val_loss: 765.5297 - val_accuracy: 0.6890\n",
            "Epoch 91/100\n",
            "32/32 [==============================] - 1s 17ms/step - loss: 526.4953 - accuracy: 0.7591 - val_loss: 3267.4949 - val_accuracy: 0.6063\n",
            "Epoch 92/100\n",
            "32/32 [==============================] - 0s 16ms/step - loss: 1262.3912 - accuracy: 0.6802 - val_loss: 1534.3586 - val_accuracy: 0.5551\n",
            "Epoch 93/100\n",
            "32/32 [==============================] - 1s 17ms/step - loss: 419.2199 - accuracy: 0.7641 - val_loss: 561.5395 - val_accuracy: 0.7244\n",
            "Epoch 94/100\n",
            "32/32 [==============================] - 1s 16ms/step - loss: 280.4582 - accuracy: 0.7957 - val_loss: 795.0944 - val_accuracy: 0.6181\n",
            "Epoch 95/100\n",
            "32/32 [==============================] - 1s 16ms/step - loss: 271.9600 - accuracy: 0.7957 - val_loss: 452.0038 - val_accuracy: 0.7323\n",
            "Epoch 96/100\n",
            "32/32 [==============================] - 0s 15ms/step - loss: 322.5247 - accuracy: 0.7957 - val_loss: 769.3151 - val_accuracy: 0.6417\n",
            "Epoch 97/100\n",
            "32/32 [==============================] - 1s 16ms/step - loss: 308.9003 - accuracy: 0.7641 - val_loss: 728.5201 - val_accuracy: 0.6299\n",
            "Epoch 98/100\n",
            "32/32 [==============================] - 1s 16ms/step - loss: 188.5650 - accuracy: 0.8213 - val_loss: 544.7533 - val_accuracy: 0.6811\n",
            "Epoch 99/100\n",
            "32/32 [==============================] - 1s 19ms/step - loss: 186.0417 - accuracy: 0.8233 - val_loss: 1013.7913 - val_accuracy: 0.5945\n",
            "Epoch 100/100\n",
            "32/32 [==============================] - 0s 16ms/step - loss: 249.4985 - accuracy: 0.8184 - val_loss: 518.6667 - val_accuracy: 0.6732\n"
          ]
        }
      ]
    },
    {
      "cell_type": "code",
      "source": [
        "import matplotlib.pyplot as plt\n",
        "\n",
        "hist = pd.DataFrame(history_callback.history)\n",
        "fig, ax = plt.subplots()\n",
        "ax.plot(hist.index, hist[\"loss\"], label=\"Train Loss\")\n",
        "ax.plot(hist.index, hist[\"val_loss\"], label=\"Val Loss\")\n",
        "ax.set_ylabel(\"loss\")\n",
        "ax.set_xlabel(\"epochs\")\n",
        "ax.legend()\n",
        "plt.show()"
      ],
      "metadata": {
        "colab": {
          "base_uri": "https://localhost:8080/",
          "height": 279
        },
        "id": "EKK0FbBLfGe_",
        "outputId": "635d38d9-e22f-4118-895b-6a93975d8c8b"
      },
      "execution_count": 73,
      "outputs": [
        {
          "output_type": "display_data",
          "data": {
            "text/plain": [
              "<Figure size 432x288 with 1 Axes>"
            ],
            "image/png": "[encoded data removed]"
          },
          "metadata": {
            "needs_background": "light"
          }
        }
      ]
    },
    {
      "cell_type": "code",
      "source": [
        "fig, ax = plt.subplots()\n",
        "ax.plot(hist.index, hist[\"accuracy\"], label=\"Train Accuracy\")\n",
        "ax.plot(hist.index, hist[\"val_accuracy\"], label=\"Val Accuracy\")\n",
        "ax.set_ylabel(\"accuracy\")\n",
        "ax.legend()\n",
        "plt.show()"
      ],
      "metadata": {
        "colab": {
          "base_uri": "https://localhost:8080/",
          "height": 265
        },
        "id": "qB3oKrEXgLsX",
        "outputId": "7898582f-4386-47a5-fdbe-a170ed5537da"
      },
      "execution_count": 74,
      "outputs": [
        {
          "output_type": "display_data",
          "data": {
            "text/plain": [
              "<Figure size 432x288 with 1 Axes>"
            ],
            "image/png": "[encoded data removed]"
          },
          "metadata": {
            "needs_background": "light"
          }
        }
      ]
    },
    {
      "cell_type": "code",
      "source": [
        "predicted= model.predict(X_test)"
      ],
      "metadata": {
        "colab": {
          "base_uri": "https://localhost:8080/"
        },
        "id": "OjNNOvgwXk8b",
        "outputId": "e33698e1-ddf9-43c9-efff-f34190cc79fa"
      },
      "execution_count": 75,
      "outputs": [
        {
          "output_type": "stream",
          "name": "stdout",
          "text": [
            "10/10 [==============================] - 0s 5ms/step\n"
          ]
        }
      ]
    },
    {
      "cell_type": "code",
      "source": [
        "from sklearn.metrics import roc_auc_score\n",
        "roc_auc_score(predicted.round(), y_test)"
      ],
      "metadata": {
        "colab": {
          "base_uri": "https://localhost:8080/"
        },
        "id": "d739aUTlXmGp",
        "outputId": "c0f9d3ed-bcb7-46eb-ae9a-4593ba992da0"
      },
      "execution_count": 76,
      "outputs": [
        {
          "output_type": "execute_result",
          "data": {
            "text/plain": [
              "0.669166314603577"
            ]
          },
          "metadata": {},
          "execution_count": 76
        }
      ]
    },
    {
      "cell_type": "code",
      "source": [
        "score = model.evaluate(X_test, y_test, verbose=0)\n",
        "print(\"Test Loss: {:.3f}\".format(score[0]))\n",
        "print(\"Test Accuracy: {:.3f}\".format(score[1]))"
      ],
      "metadata": {
        "colab": {
          "base_uri": "https://localhost:8080/"
        },
        "id": "tMTRU5jBcH5J",
        "outputId": "cf83ad74-c6aa-405a-8a09-a98a48c76cc2"
      },
      "execution_count": 77,
      "outputs": [
        {
          "output_type": "stream",
          "name": "stdout",
          "text": [
            "Test Loss: 407.322\n",
            "Test Accuracy: 0.732\n"
          ]
        }
      ]
    },
    {
      "cell_type": "markdown",
      "source": [
        "Improving the Random Forest Model"
      ],
      "metadata": {
        "id": "19uOQIJ0aycd"
      }
    },
    {
      "cell_type": "code",
      "source": [
        "from sklearn import model_selection\n",
        "from sklearn.ensemble import RandomForestClassifier\n",
        "from sklearn.model_selection import GridSearchCV\n",
        "#rfc = RandomForestClassifier()\n",
        "\n",
        "#param_grid = {\n",
        "#    'max_depth': [80, 90, 100, 110],\n",
        "#    'max_features': [2, 3],\n",
        "#    'min_samples_leaf': [3, 4, 5],\n",
        "#    'min_samples_split': [8, 10, 12],\n",
        "#    'n_estimators': [100, 200, 300, 1000]\n",
        "#}\n",
        "\n",
        "#CV_rfc = GridSearchCV(estimator=rfc, param_grid=param_grid, cv= 5)\n",
        "#CV_rfc.fit(X_train, y_train)\n",
        "#CV_rfc.best_params_"
      ],
      "metadata": {
        "colab": {
          "base_uri": "https://localhost:8080/"
        },
        "id": "jrnftYCJa3Re",
        "outputId": "d1672219-f561-4851-8adc-3f04eb3e45ff"
      },
      "execution_count": null,
      "outputs": [
        {
          "output_type": "execute_result",
          "data": {
            "text/plain": [
              "{'bootstrap': True,\n",
              " 'max_depth': 110,\n",
              " 'max_features': 3,\n",
              " 'min_samples_leaf': 4,\n",
              " 'min_samples_split': 12,\n",
              " 'n_estimators': 100}"
            ]
          },
          "metadata": {},
          "execution_count": 58
        }
      ]
    },
    {
      "cell_type": "code",
      "source": [
        "rfc1=RandomForestClassifier(\n",
        " max_depth= 210,\n",
        " max_features = 250,\n",
        " min_samples_leaf = 6,\n",
        " min_samples_split = 8,\n",
        " n_estimators = 800)\n",
        "# predictions\n",
        "rfc1.fit(X_train, y_train)\n",
        "predicted = rfc1.predict(X_test)"
      ],
      "metadata": {
        "id": "pZ8_haJQbVd4"
      },
      "execution_count": null,
      "outputs": []
    },
    {
      "cell_type": "code",
      "source": [
        "roc_auc_score(predicted.round(), y_test)"
      ],
      "metadata": {
        "colab": {
          "base_uri": "https://localhost:8080/"
        },
        "id": "Jew75yKXd_Fl",
        "outputId": "6b8fad91-38b6-4630-cd46-282bc390a422"
      },
      "execution_count": null,
      "outputs": [
        {
          "output_type": "execute_result",
          "data": {
            "text/plain": [
              "0.8066269284712483"
            ]
          },
          "metadata": {},
          "execution_count": 124
        }
      ]
    },
    {
      "cell_type": "code",
      "source": [
        "from sklearn.metrics import plot_confusion_matrix\n",
        "from sklearn.metrics import plot_roc_curve\n",
        "fig, ax = plt.subplots()\n",
        "plot_confusion_matrix(rfc1, X_test, y_test, ax=ax, cmap=plt.cm.Blues)\n",
        "plt.show()\n",
        "\n",
        "fig, ax = plt.subplots()\n",
        "plot_roc_curve(rfc1, X_test, y_test, ax=ax) \n",
        "plt.plot([0, 1], [0, 1], color=\"navy\", linestyle=\"--\")\n",
        "plt.show()"
      ],
      "metadata": {
        "colab": {
          "base_uri": "https://localhost:8080/",
          "height": 629
        },
        "id": "TGdxVhcxhEYR",
        "outputId": "9df9a967-f525-4cde-9ee0-c113cc155258"
      },
      "execution_count": null,
      "outputs": [
        {
          "output_type": "stream",
          "name": "stderr",
          "text": [
            "/usr/local/lib/python3.8/dist-packages/sklearn/utils/deprecation.py:87: FutureWarning: Function plot_confusion_matrix is deprecated; Function `plot_confusion_matrix` is deprecated in 1.0 and will be removed in 1.2. Use one of the class methods: ConfusionMatrixDisplay.from_predictions or ConfusionMatrixDisplay.from_estimator.\n",
            "  warnings.warn(msg, category=FutureWarning)\n"
          ]
        },
        {
          "output_type": "display_data",
          "data": {
            "text/plain": [
              "<Figure size 432x288 with 2 Axes>"
            ],
            "image/png": "[encoded data removed]"
          },
          "metadata": {
            "needs_background": "light"
          }
        },
        {
          "output_type": "stream",
          "name": "stderr",
          "text": [
            "/usr/local/lib/python3.8/dist-packages/sklearn/utils/deprecation.py:87: FutureWarning: Function plot_roc_curve is deprecated; Function :func:`plot_roc_curve` is deprecated in 1.0 and will be removed in 1.2. Use one of the class methods: :meth:`sklearn.metric.RocCurveDisplay.from_predictions` or :meth:`sklearn.metric.RocCurveDisplay.from_estimator`.\n",
            "  warnings.warn(msg, category=FutureWarning)\n"
          ]
        },
        {
          "output_type": "display_data",
          "data": {
            "text/plain": [
              "<Figure size 432x288 with 1 Axes>"
            ],
            "image/png": "[encoded data removed]"
          },
          "metadata": {
            "needs_background": "light"
          }
        }
      ]
    },
    {
      "cell_type": "code",
      "source": [
        "feat_importances = pd.Series(rfc1.feature_importances_, index=column_names)\n",
        "feat_importances.sort_values()[-6:-1].plot(kind='barh')"
      ],
      "metadata": {
        "colab": {
          "base_uri": "https://localhost:8080/",
          "height": 282
        },
        "id": "istCgXGfmwz3",
        "outputId": "ac377228-383a-45b6-b2dc-aab229bc1c2f"
      },
      "execution_count": null,
      "outputs": [
        {
          "output_type": "execute_result",
          "data": {
            "text/plain": [
              "<matplotlib.axes._subplots.AxesSubplot at 0x7f17bd0fd400>"
            ]
          },
          "metadata": {},
          "execution_count": 140
        },
        {
          "output_type": "display_data",
          "data": {
            "text/plain": [
              "<Figure size 432x288 with 1 Axes>"
            ],
            "image/png": "[encoded data removed]"
          },
          "metadata": {
            "needs_background": "light"
          }
        }
      ]
    },
    {
      "cell_type": "markdown",
      "source": [
        "## MILK"
      ],
      "metadata": {
        "id": "aBAy_DEikPVc"
      }
    },
    {
      "cell_type": "code",
      "source": [
        "df = pd.read_csv('/content/qiime_three.txt', sep = '\\t', index_col = 0)\n",
        "\n",
        "df = df.transpose()\n",
        "\n",
        "y = pd.read_csv('/content/merged_three_Countrymetadata.tsv', sep = '\\t')[['SampleID', 'Milk']]\n",
        "\n",
        "y.rename(columns = {'Milk': 'target'}, inplace = True)\n",
        "\n",
        "df.reset_index(inplace = True)\n",
        "df.rename(columns = {'sample': 'index', 'index':'SampleID'}, inplace = True)\n",
        "\n",
        "df['SampleID'] = df['SampleID'].astype(int)\n",
        "\n",
        "y['SampleID'] = y['SampleID'].astype(float)\n",
        "\n",
        "y['SampleID'].dtype\n",
        "\n",
        "df = df.merge(y, how = 'left', on = 'SampleID')\n",
        "\n",
        "X = df.drop('target', axis=1)\n",
        "y = df['target']\n",
        "\n",
        "print(\"Class distribution:\")\n",
        "print(y.value_counts())"
      ],
      "metadata": {
        "colab": {
          "base_uri": "https://localhost:8080/"
        },
        "id": "pGOjlBaCkRRT",
        "outputId": "822ed93f-1adf-4b99-80a7-7057b9a00605"
      },
      "execution_count": null,
      "outputs": [
        {
          "output_type": "stream",
          "name": "stdout",
          "text": [
            "Class distribution:\n",
            "True     821\n",
            "False    763\n",
            "Name: target, dtype: int64\n"
          ]
        }
      ]
    },
    {
      "cell_type": "code",
      "source": [
        "import matplotlib.pyplot as plt\n",
        "import seaborn as sns"
      ],
      "metadata": {
        "id": "-_SbsYppm6ho"
      },
      "execution_count": null,
      "outputs": []
    },
    {
      "cell_type": "code",
      "source": [
        "X_train, X_test, y_train, y_test = train_test_split(X, y, test_size=0.2)"
      ],
      "metadata": {
        "id": "7wgpnLoalV1g"
      },
      "execution_count": null,
      "outputs": []
    },
    {
      "cell_type": "code",
      "source": [
        "rfc1=RandomForestClassifier(\n",
        " max_depth= 210,\n",
        " max_features = 250,\n",
        " min_samples_leaf = 6,\n",
        " min_samples_split = 8,\n",
        " n_estimators = 800)\n",
        "# predictions\n",
        "rfc1.fit(X_train, y_train)\n",
        "predicted = rfc1.predict(X_test)"
      ],
      "metadata": {
        "id": "Kzwo1Fh73lMb"
      },
      "execution_count": null,
      "outputs": []
    },
    {
      "cell_type": "code",
      "source": [
        "from sklearn.metrics import plot_confusion_matrix\n",
        "from sklearn.metrics import plot_roc_curve"
      ],
      "metadata": {
        "id": "oyCp9spKnw4X"
      },
      "execution_count": null,
      "outputs": []
    },
    {
      "cell_type": "code",
      "source": [
        "fig, ax = plt.subplots()\n",
        "plot_confusion_matrix(rfc1, X_test, y_test, ax=ax, cmap=plt.cm.Blues)\n",
        "plt.show()"
      ],
      "metadata": {
        "colab": {
          "base_uri": "https://localhost:8080/",
          "height": 335
        },
        "id": "GC0OmFkBnpL3",
        "outputId": "ed0af061-f112-4561-af8e-c16e3d59ae57"
      },
      "execution_count": null,
      "outputs": [
        {
          "output_type": "stream",
          "name": "stderr",
          "text": [
            "/usr/local/lib/python3.8/dist-packages/sklearn/utils/deprecation.py:87: FutureWarning: Function plot_confusion_matrix is deprecated; Function `plot_confusion_matrix` is deprecated in 1.0 and will be removed in 1.2. Use one of the class methods: ConfusionMatrixDisplay.from_predictions or ConfusionMatrixDisplay.from_estimator.\n",
            "  warnings.warn(msg, category=FutureWarning)\n"
          ]
        },
        {
          "output_type": "display_data",
          "data": {
            "text/plain": [
              "<Figure size 432x288 with 2 Axes>"
            ],
            "image/png": "[encoded data removed]"
          },
          "metadata": {
            "needs_background": "light"
          }
        }
      ]
    },
    {
      "cell_type": "code",
      "source": [
        "fig, ax = plt.subplots()\n",
        "plot_roc_curve(rfc1, X_test, y_test, ax=ax) \n",
        "plt.plot([0, 1], [0, 1], color=\"navy\", linestyle=\"--\")\n",
        "plt.show()"
      ],
      "metadata": {
        "colab": {
          "base_uri": "https://localhost:8080/",
          "height": 335
        },
        "id": "Tz9Ds5SHnu5h",
        "outputId": "334401a2-dca9-4cc6-bfb7-e30bd6722a42"
      },
      "execution_count": null,
      "outputs": [
        {
          "output_type": "stream",
          "name": "stderr",
          "text": [
            "/usr/local/lib/python3.8/dist-packages/sklearn/utils/deprecation.py:87: FutureWarning: Function plot_roc_curve is deprecated; Function :func:`plot_roc_curve` is deprecated in 1.0 and will be removed in 1.2. Use one of the class methods: :meth:`sklearn.metric.RocCurveDisplay.from_predictions` or :meth:`sklearn.metric.RocCurveDisplay.from_estimator`.\n",
            "  warnings.warn(msg, category=FutureWarning)\n"
          ]
        },
        {
          "output_type": "display_data",
          "data": {
            "text/plain": [
              "<Figure size 432x288 with 1 Axes>"
            ],
            "image/png": "[encoded data removed]"
          },
          "metadata": {
            "needs_background": "light"
          }
        }
      ]
    },
    {
      "cell_type": "code",
      "source": [
        "feat_importances = pd.Series(rfc1.feature_importances_, index=column_names)\n",
        "feat_importances.sort_values()[-6:-1].plot(kind='barh')"
      ],
      "metadata": {
        "colab": {
          "base_uri": "https://localhost:8080/",
          "height": 283
        },
        "id": "oaMSNUxN8nwm",
        "outputId": "5c209c91-3688-47dc-995e-bf572695f759"
      },
      "execution_count": null,
      "outputs": [
        {
          "output_type": "execute_result",
          "data": {
            "text/plain": [
              "<matplotlib.axes._subplots.AxesSubplot at 0x7f2f196960a0>"
            ]
          },
          "metadata": {},
          "execution_count": 89
        },
        {
          "output_type": "display_data",
          "data": {
            "text/plain": [
              "<Figure size 432x288 with 1 Axes>"
            ],
            "image/png": "[encoded data removed]"
          },
          "metadata": {
            "needs_background": "light"
          }
        }
      ]
    },
    {
      "cell_type": "markdown",
      "source": [
        "# Eggs"
      ],
      "metadata": {
        "id": "LEcVS5u4_uy_"
      }
    },
    {
      "cell_type": "code",
      "source": [
        "df = pd.read_csv('/content/qiime_three.txt', sep = '\\t', index_col = 0)\n",
        "\n",
        "df = df.transpose()\n",
        "\n",
        "y = pd.read_csv('/content/merged_three_Countrymetadata.tsv', sep = '\\t')[['SampleID', 'Eggs']]\n",
        "\n",
        "y.rename(columns = {'Eggs': 'target'}, inplace = True)\n",
        "\n",
        "df.reset_index(inplace = True)\n",
        "df.rename(columns = {'sample': 'index', 'index':'SampleID'}, inplace = True)\n",
        "\n",
        "df['SampleID'] = df['SampleID'].astype(int)\n",
        "\n",
        "y['SampleID'] = y['SampleID'].astype(float)\n",
        "\n",
        "y['SampleID'].dtype\n",
        "\n",
        "df = df.merge(y, how = 'left', on = 'SampleID')\n",
        "\n",
        "X = df.drop('target', axis=1)\n",
        "y = df['target']\n",
        "\n",
        "print(\"Class distribution:\")\n",
        "print(y.value_counts())"
      ],
      "metadata": {
        "colab": {
          "base_uri": "https://localhost:8080/"
        },
        "id": "ufc4FpK__mWK",
        "outputId": "aa0a48c4-453b-4366-b431-6309c42ee7eb"
      },
      "execution_count": null,
      "outputs": [
        {
          "output_type": "stream",
          "name": "stdout",
          "text": [
            "Class distribution:\n",
            "False    858\n",
            "True     726\n",
            "Name: target, dtype: int64\n"
          ]
        }
      ]
    },
    {
      "cell_type": "code",
      "source": [
        "import matplotlib.pyplot as plt\n",
        "import seaborn as sns"
      ],
      "metadata": {
        "id": "TOB9aoOD_wCe"
      },
      "execution_count": null,
      "outputs": []
    },
    {
      "cell_type": "code",
      "source": [
        "X_train, X_test, y_train, y_test = train_test_split(X, y, test_size=0.2)"
      ],
      "metadata": {
        "id": "0xhQYNT__ykI"
      },
      "execution_count": null,
      "outputs": []
    },
    {
      "cell_type": "code",
      "source": [
        "rfc1=RandomForestClassifier(\n",
        " max_depth= 210,\n",
        " max_features = 250,\n",
        " min_samples_leaf = 6,\n",
        " min_samples_split = 8,\n",
        " n_estimators = 800)\n",
        "# predictions\n",
        "rfc1.fit(X_train, y_train)\n",
        "predicted = rfc1.predict(X_test)"
      ],
      "metadata": {
        "id": "9UoiEEX1_zuK"
      },
      "execution_count": null,
      "outputs": []
    },
    {
      "cell_type": "code",
      "source": [
        "from sklearn.metrics import plot_confusion_matrix\n",
        "from sklearn.metrics import plot_roc_curve"
      ],
      "metadata": {
        "id": "82gHSpBN_1a4"
      },
      "execution_count": null,
      "outputs": []
    },
    {
      "cell_type": "code",
      "source": [
        "fig, ax = plt.subplots()\n",
        "plot_confusion_matrix(rfc1, X_test, y_test, ax=ax, cmap=plt.cm.Blues)\n",
        "plt.show()\n",
        "\n",
        "fig, ax = plt.subplots()\n",
        "plot_roc_curve(rfc1, X_test, y_test, ax=ax) \n",
        "plt.plot([0, 1], [0, 1], color=\"navy\", linestyle=\"--\")\n",
        "plt.show()"
      ],
      "metadata": {
        "colab": {
          "base_uri": "https://localhost:8080/",
          "height": 629
        },
        "id": "eyu4S892_7Qj",
        "outputId": "25a03ad8-90e6-4e5f-c78b-237206ec3ad4"
      },
      "execution_count": null,
      "outputs": [
        {
          "output_type": "stream",
          "name": "stderr",
          "text": [
            "/usr/local/lib/python3.8/dist-packages/sklearn/utils/deprecation.py:87: FutureWarning: Function plot_confusion_matrix is deprecated; Function `plot_confusion_matrix` is deprecated in 1.0 and will be removed in 1.2. Use one of the class methods: ConfusionMatrixDisplay.from_predictions or ConfusionMatrixDisplay.from_estimator.\n",
            "  warnings.warn(msg, category=FutureWarning)\n"
          ]
        },
        {
          "output_type": "display_data",
          "data": {
            "text/plain": [
              "<Figure size 432x288 with 2 Axes>"
            ],
            "image/png": "[encoded data removed]"
          },
          "metadata": {
            "needs_background": "light"
          }
        },
        {
          "output_type": "stream",
          "name": "stderr",
          "text": [
            "/usr/local/lib/python3.8/dist-packages/sklearn/utils/deprecation.py:87: FutureWarning: Function plot_roc_curve is deprecated; Function :func:`plot_roc_curve` is deprecated in 1.0 and will be removed in 1.2. Use one of the class methods: :meth:`sklearn.metric.RocCurveDisplay.from_predictions` or :meth:`sklearn.metric.RocCurveDisplay.from_estimator`.\n",
            "  warnings.warn(msg, category=FutureWarning)\n"
          ]
        },
        {
          "output_type": "display_data",
          "data": {
            "text/plain": [
              "<Figure size 432x288 with 1 Axes>"
            ],
            "image/png": "[encoded data removed]"
          },
          "metadata": {
            "needs_background": "light"
          }
        }
      ]
    },
    {
      "cell_type": "code",
      "source": [
        "feat_importances = pd.Series(rfc1.feature_importances_, index=column_names)\n",
        "feat_importances.sort_values()[-6:-1].plot(kind='barh')"
      ],
      "metadata": {
        "colab": {
          "base_uri": "https://localhost:8080/",
          "height": 283
        },
        "id": "IvtR_Rcl_9xZ",
        "outputId": "9ee2a152-0750-451e-ac2e-4197a5325906"
      },
      "execution_count": null,
      "outputs": [
        {
          "output_type": "execute_result",
          "data": {
            "text/plain": [
              "<matplotlib.axes._subplots.AxesSubplot at 0x7f2e5ca2c3a0>"
            ]
          },
          "metadata": {},
          "execution_count": 103
        },
        {
          "output_type": "display_data",
          "data": {
            "text/plain": [
              "<Figure size 432x288 with 1 Axes>"
            ],
            "image/png": "[encoded data removed]"
          },
          "metadata": {
            "needs_background": "light"
          }
        }
      ]
    }
  ]
}